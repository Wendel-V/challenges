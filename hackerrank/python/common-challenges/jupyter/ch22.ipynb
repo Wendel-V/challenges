{
 "metadata": {
  "language_info": {
   "codemirror_mode": {
    "name": "ipython",
    "version": 3
   },
   "file_extension": ".py",
   "mimetype": "text/x-python",
   "name": "python",
   "nbconvert_exporter": "python",
   "pygments_lexer": "ipython3",
   "version": "3.8.6-final"
  },
  "orig_nbformat": 2,
  "kernelspec": {
   "name": "python3",
   "display_name": "Python 3.8.6 64-bit",
   "metadata": {
    "interpreter": {
     "hash": "4d7122b0d99b2cef9d5657ff69b5f6e9fec2de8231d753a7be2ec25a7a73ac15"
    }
   }
  }
 },
 "nbformat": 4,
 "nbformat_minor": 2,
 "cells": [
  {
   "cell_type": "code",
   "execution_count": 157,
   "metadata": {},
   "outputs": [
    {
     "output_type": "execute_result",
     "data": {
      "text/plain": [
       "1"
      ]
     },
     "metadata": {},
     "execution_count": 157
    }
   ],
   "source": [
    "def countingValleys(steps, path):\n",
    "    valleys, level, list_level = 0, 0, [0]\n",
    "    for i in path:\n",
    "        if i == 'U':\n",
    "            level += 1\n",
    "            list_level.append(level)\n",
    "        else:\n",
    "            level -= 1\n",
    "            list_level.append(level)\n",
    "    list_level.pop(-1)\n",
    "    for i in range(steps):\n",
    "        if list_level[i] == 0:\n",
    "            if list_level[i+1] < 0:\n",
    "                valleys +=1\n",
    "    return valleys\n",
    "\n",
    "countingValleys(8, 'UDDDUDUU')"
   ]
  }
 ]
}