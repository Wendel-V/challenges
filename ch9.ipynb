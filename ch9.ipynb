{
 "metadata": {
  "language_info": {
   "codemirror_mode": {
    "name": "ipython",
    "version": 3
   },
   "file_extension": ".py",
   "mimetype": "text/x-python",
   "name": "python",
   "nbconvert_exporter": "python",
   "pygments_lexer": "ipython3",
   "version": "3.8.6-final"
  },
  "orig_nbformat": 2,
  "kernelspec": {
   "name": "python3",
   "display_name": "Python 3.8.6 64-bit",
   "metadata": {
    "interpreter": {
     "hash": "4d7122b0d99b2cef9d5657ff69b5f6e9fec2de8231d753a7be2ec25a7a73ac15"
    }
   }
  }
 },
 "nbformat": 4,
 "nbformat_minor": 2,
 "cells": [
  {
   "cell_type": "code",
   "execution_count": 91,
   "metadata": {},
   "outputs": [
    {
     "output_type": "stream",
     "name": "stdout",
     "text": [
      "00:05:39\n"
     ]
    }
   ],
   "source": [
    "date = list('12:05:39AM')\n",
    "\n",
    "date.pop(len(date)-1)\n",
    "letter = date.pop(len(date)-1)\n",
    "\n",
    "\n",
    "\n",
    "if (letter == 'P'):\n",
    "    new_hour = str(int(date[0]+date[1]) + 12)\n",
    "    del(date[0:2])\n",
    "    date.insert(0, new_hour)\n",
    "elif(letter == 'A' and date[0] == '1' and date[1] == '2'):\n",
    "    new_hour = '00'\n",
    "    del(date[0:2])\n",
    "    date.insert(0, new_hour)\n",
    "\n",
    "result = ''.join(date)\n",
    "print(result)\n",
    "    \n",
    " \n",
    "\n"
   ]
  },
  {
   "cell_type": "code",
   "execution_count": 97,
   "metadata": {},
   "outputs": [
    {
     "output_type": "stream",
     "name": "stdout",
     "text": [
      "12:45:54\n"
     ]
    }
   ],
   "source": [
    "x = list('12:45:54PM')\n",
    "\n",
    "\n",
    "\n",
    "def timeConversion(s):\n",
    "    date = list(s)\n",
    "\n",
    "    date.pop(len(date)-1)\n",
    "    letter = date.pop(len(date)-1)\n",
    "\n",
    "\n",
    "    if(letter == 'P' and date[0] == '1' and date[1] == '2'):\n",
    "        result = ''.join(date)\n",
    "    elif (letter == 'P'):\n",
    "        new_hour = str(int(date[0]+date[1]) + 12)\n",
    "        del(date[0:2])\n",
    "        date.insert(0, new_hour)\n",
    "    elif(letter == 'A' and date[0] == '1' and date[1] == '2'):\n",
    "        new_hour = '00'\n",
    "        del(date[0:2])\n",
    "        date.insert(0, new_hour)\n",
    "\n",
    "    result = ''.join(date)\n",
    "    print(result)\n",
    "    \n",
    " \n",
    "\n",
    "timeConversion(x)"
   ]
  },
  {
   "cell_type": "code",
   "execution_count": 68,
   "metadata": {},
   "outputs": [
    {
     "output_type": "execute_result",
     "data": {
      "text/plain": [
       "12"
      ]
     },
     "metadata": {},
     "execution_count": 68
    }
   ],
   "source": [
    "date = list('12:05:39PM')\n",
    "\n",
    "hour = int(date[0] + date[1])\n"
   ]
  },
  {
   "cell_type": "code",
   "execution_count": null,
   "metadata": {},
   "outputs": [],
   "source": []
  }
 ]
}