{
 "metadata": {
  "language_info": {
   "codemirror_mode": {
    "name": "ipython",
    "version": 3
   },
   "file_extension": ".py",
   "mimetype": "text/x-python",
   "name": "python",
   "nbconvert_exporter": "python",
   "pygments_lexer": "ipython3",
   "version": "3.8.6-final"
  },
  "orig_nbformat": 2,
  "kernelspec": {
   "name": "python3",
   "display_name": "Python 3.8.6 64-bit",
   "metadata": {
    "interpreter": {
     "hash": "4d7122b0d99b2cef9d5657ff69b5f6e9fec2de8231d753a7be2ec25a7a73ac15"
    }
   }
  }
 },
 "nbformat": 4,
 "nbformat_minor": 2,
 "cells": [
  {
   "cell_type": "code",
   "execution_count": 45,
   "metadata": {},
   "outputs": [],
   "source": [
    "class Person:\n",
    "    def __init__(self,initialAge):\n",
    "        if initialAge >= 0:\n",
    "            self.age = initialAge\n",
    "        else:\n",
    "            print('Age is not valid, setting age to 0.')\n",
    "            self.age = 0\n",
    "    def amIOld(self):\n",
    "        if self.age < 13:\n",
    "            print('You are young.')\n",
    "        elif (13 <= self.age < 18):\n",
    "            print('You are a teenager.')\n",
    "        else:\n",
    "            print('You are old.')\n",
    "    def yearPasses(self):\n",
    "        self.age += 1\n",
    "\n"
   ]
  },
  {
   "cell_type": "code",
   "execution_count": 30,
   "metadata": {},
   "outputs": [],
   "source": [
    "p1 = Person(12)\n",
    "p2 = Person(13)\n",
    "p3 = Person(14)\n",
    "p4 = Person(17)\n",
    "p5 = Person(18)\n",
    "p6 = Person(19)"
   ]
  },
  {
   "cell_type": "code",
   "execution_count": 41,
   "metadata": {},
   "outputs": [
    {
     "output_type": "stream",
     "name": "stdout",
     "text": [
      "You are old.\nYou are old.\nYou are old.\nYou are old.\nYou are old.\nYou are old.\n"
     ]
    }
   ],
   "source": [
    "p1.amIOld()\n",
    "p2.amIOld()\n",
    "p3.amIOld()\n",
    "p4.amIOld()\n",
    "p5.amIOld()\n",
    "p6.amIOld()\n",
    "\n"
   ]
  },
  {
   "cell_type": "code",
   "execution_count": 40,
   "metadata": {},
   "outputs": [],
   "source": [
    "p1.yearPasses()\n",
    "p2.yearPasses()\n",
    "p3.yearPasses()\n",
    "p4.yearPasses()\n",
    "p5.yearPasses()\n",
    "p6.yearPasses()"
   ]
  },
  {
   "cell_type": "code",
   "execution_count": null,
   "metadata": {},
   "outputs": [],
   "source": [
    "Age is not  valid, setting age to 0.\n",
    "Your are young.\n",
    "Your are young.\n",
    "Your are young.\n",
    "Your are a teenager.\n",
    "Your are a teenager.\n",
    "You are old.\n",
    "You are old.\n",
    "You are old.\n",
    "\n",
    "Age is not valid, setting age to 0.\n",
    "You are young.\n",
    "You are young.\n",
    "You are young.\n",
    "You are a teenager.\n",
    "You are a teenager.\n",
    "You are old.\n",
    "You are old.\n",
    "You are old.\n",
    "\n"
   ]
  }
 ]
}