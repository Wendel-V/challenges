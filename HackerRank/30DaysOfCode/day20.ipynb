{
 "metadata": {
  "language_info": {
   "codemirror_mode": {
    "name": "ipython",
    "version": 3
   },
   "file_extension": ".py",
   "mimetype": "text/x-python",
   "name": "python",
   "nbconvert_exporter": "python",
   "pygments_lexer": "ipython3",
   "version": "3.8.5-final"
  },
  "orig_nbformat": 2,
  "kernelspec": {
   "name": "python3",
   "display_name": "Python 3",
   "language": "python"
  }
 },
 "nbformat": 4,
 "nbformat_minor": 2,
 "cells": [
  {
   "cell_type": "code",
   "execution_count": 7,
   "metadata": {},
   "outputs": [],
   "source": [
    "a = [4, 3, 1, 2]\n",
    "n = len(a)\n",
    "\n",
    "numSwaps = 0\n",
    "for i in range(n):\n",
    "    numberOfSwaps = 0\n",
    "\n",
    "    for j in range(n-1):\n",
    "\n",
    "        if a[j] > a[j + 1]:\n",
    "            aux = a[j]\n",
    "            a[j] = a[j + 1]\n",
    "            a[j + 1] = aux\n",
    "\n",
    "            numberOfSwaps += 1\n",
    "            numSwaps += 1\n",
    "    if numberOfSwaps == 0:\n",
    "        break\n",
    "\n",
    "print(f'Array is sorted in {numSwaps} swaps.')\n",
    "print(f'First Element: {a[0]}')\n",
    "print(f'Last Element: {a[-1]}')"
   ]
  }
 ]
}