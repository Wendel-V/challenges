{
 "cells": [
  {
   "cell_type": "code",
   "execution_count": 7,
   "metadata": {},
   "outputs": [
    {
     "data": {
      "text/plain": [
       "0"
      ]
     },
     "execution_count": 7,
     "metadata": {},
     "output_type": "execute_result"
    }
   ],
   "source": [
    "d1, m1, y1 = 2, 7, 1014\n",
    "d2, m2, y2 = 1, 1, 1015\n",
    "\n",
    "fine = 0\n",
    "\n",
    "if (y1 < y2) or (y1 == y2 and m1 < m2) or (y1 == y2 and m1 == m2 and d1 < d2):\n",
    "    fine = 0\n",
    "elif y1 > y2:\n",
    "    fine = 10000\n",
    "elif y1 <= y2 and m1 > m2:\n",
    "    fine = (m1-m2) * 500\n",
    "elif m1 <= m2 and d1 > d2:\n",
    "    fine = (d1-d2) * 15\n",
    "else:\n",
    "    fine = 0\n",
    "\n",
    "fine\n",
    "\n"
   ]
  },
  {
   "cell_type": "code",
   "execution_count": null,
   "metadata": {},
   "outputs": [],
   "source": []
  }
 ],
 "metadata": {
  "interpreter": {
   "hash": "916dbcbb3f70747c44a77c7bcd40155683ae19c65e1c03b4aa3499c5328201f1"
  },
  "kernelspec": {
   "display_name": "Python 3.8.10 64-bit",
   "language": "python",
   "name": "python3"
  },
  "language_info": {
   "codemirror_mode": {
    "name": "ipython",
    "version": 3
   },
   "file_extension": ".py",
   "mimetype": "text/x-python",
   "name": "python",
   "nbconvert_exporter": "python",
   "pygments_lexer": "ipython3",
   "version": "3.8.10"
  },
  "orig_nbformat": 4
 },
 "nbformat": 4,
 "nbformat_minor": 2
}
