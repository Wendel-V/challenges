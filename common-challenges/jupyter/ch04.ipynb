{
 "metadata": {
  "language_info": {
   "codemirror_mode": {
    "name": "ipython",
    "version": 3
   },
   "file_extension": ".py",
   "mimetype": "text/x-python",
   "name": "python",
   "nbconvert_exporter": "python",
   "pygments_lexer": "ipython3",
   "version": "3.8.6-final"
  },
  "orig_nbformat": 2,
  "kernelspec": {
   "name": "python3",
   "display_name": "Python 3.8.6 64-bit",
   "metadata": {
    "interpreter": {
     "hash": "4d7122b0d99b2cef9d5657ff69b5f6e9fec2de8231d753a7be2ec25a7a73ac15"
    }
   }
  }
 },
 "nbformat": 4,
 "nbformat_minor": 2,
 "cells": [
  {
   "cell_type": "code",
   "execution_count": 79,
   "metadata": {
    "tags": []
   },
   "outputs": [],
   "source": [
    "def diagonalDifference(arr):\n",
    "    diag_prim, diag_sec = [],[]\n",
    "    i = 0\n",
    "    j = 0\n",
    "\n",
    "    row_size = len(arr[i])\n",
    "    col_size = len(arr[j])\n",
    "\n",
    "    while i < row_size:\n",
    "        j = 0\n",
    "        while j < col_size:\n",
    "            if(i == j): diag_prim.append(arr[i][j])\n",
    "            elif((i+j) == (row_size - 1)): diag_sec.append(arr[i][j])\n",
    "            j += 1\n",
    "        i += 1\n",
    "    \n",
    "    \n",
    "    if((row_size % 2) != 0): diag_sec.append(diag_prim[len(diag_prim)//2]) \n",
    "\n",
    "    diff = sum(diag_prim) - sum(diag_sec)\n",
    "\n",
    "    return abs(diff)"
   ]
  },
  {
   "cell_type": "code",
   "execution_count": 80,
   "metadata": {},
   "outputs": [],
   "source": [
    "x = [[-1,1,-7,-8],\n",
    "    [-10,-8,-5,2],\n",
    "    [0,9,7,-1],\n",
    "    [4,4,-2,1]]"
   ]
  },
  {
   "cell_type": "code",
   "execution_count": 81,
   "metadata": {},
   "outputs": [
    {
     "output_type": "execute_result",
     "data": {
      "text/plain": [
       "1"
      ]
     },
     "metadata": {},
     "execution_count": 81
    }
   ],
   "source": [
    "diagonalDifference(x)"
   ]
  }
 ]
}