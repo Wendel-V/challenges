{
 "cells": [
  {
   "cell_type": "code",
   "execution_count": 57,
   "id": "18ad5170",
   "metadata": {},
   "outputs": [],
   "source": [
    "arr = [3, 3, 2, 1, 3]"
   ]
  },
  {
   "cell_type": "code",
   "execution_count": 58,
   "id": "c1a9c21f",
   "metadata": {},
   "outputs": [],
   "source": [
    "unique = list(set(arr))\n",
    "most_frequent = unique[0]"
   ]
  },
  {
   "cell_type": "code",
   "execution_count": 59,
   "id": "9c8e0b6b",
   "metadata": {},
   "outputs": [
    {
     "data": {
      "text/plain": [
       "3"
      ]
     },
     "execution_count": 59,
     "metadata": {},
     "output_type": "execute_result"
    }
   ],
   "source": [
    "for i in unique:\n",
    "    if arr.count(i) >= arr.count(most_frequent):\n",
    "        \n",
    "        most_frequent = i\n",
    "        \n",
    "most_frequent"
   ]
  },
  {
   "cell_type": "code",
   "execution_count": 60,
   "id": "28c61079",
   "metadata": {},
   "outputs": [
    {
     "data": {
      "text/plain": [
       "2"
      ]
     },
     "execution_count": 60,
     "metadata": {},
     "output_type": "execute_result"
    }
   ],
   "source": [
    "len(arr) - arr.count(most_frequent)"
   ]
  },
  {
   "cell_type": "code",
   "execution_count": 55,
   "id": "cf690e35",
   "metadata": {},
   "outputs": [
    {
     "data": {
      "text/plain": [
       "4"
      ]
     },
     "execution_count": 55,
     "metadata": {},
     "output_type": "execute_result"
    }
   ],
   "source": [
    "unique = list(set(arr))\n",
    "most_frequent = unique[0]\n",
    "for i in unique:\n",
    "    if arr.count(i) >= arr.count(most_frequent):\n",
    "        most_frequent = i\n",
    "len(arr) - arr.count(most_frequent)"
   ]
  },
  {
   "cell_type": "code",
   "execution_count": null,
   "id": "30f8b3ae",
   "metadata": {},
   "outputs": [],
   "source": []
  }
 ],
 "metadata": {
  "kernelspec": {
   "display_name": "Python 3 (ipykernel)",
   "language": "python",
   "name": "python3"
  },
  "language_info": {
   "codemirror_mode": {
    "name": "ipython",
    "version": 3
   },
   "file_extension": ".py",
   "mimetype": "text/x-python",
   "name": "python",
   "nbconvert_exporter": "python",
   "pygments_lexer": "ipython3",
   "version": "3.8.10"
  }
 },
 "nbformat": 4,
 "nbformat_minor": 5
}
