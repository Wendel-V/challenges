{
 "metadata": {
  "language_info": {
   "codemirror_mode": {
    "name": "ipython",
    "version": 3
   },
   "file_extension": ".py",
   "mimetype": "text/x-python",
   "name": "python",
   "nbconvert_exporter": "python",
   "pygments_lexer": "ipython3",
   "version": "3.8.5-final"
  },
  "orig_nbformat": 2,
  "kernelspec": {
   "name": "python3",
   "display_name": "Python 3",
   "language": "python"
  }
 },
 "nbformat": 4,
 "nbformat_minor": 2,
 "cells": [
  {
   "cell_type": "code",
   "execution_count": 54,
   "metadata": {},
   "outputs": [
    {
     "output_type": "stream",
     "name": "stdout",
     "text": [
      "4\n"
     ]
    }
   ],
   "source": [
    "n = 8\n",
    "k = 5\n",
    "\n",
    "def bitwise(n, k):\n",
    "    s = list(range(1,n+1))\n",
    "    aux = 1\n",
    "    max_value = 0\n",
    "    for i in s:\n",
    "        for item in range(aux + 1, n + 1):\n",
    "            bitwise_and = i & item\n",
    "            if bitwise_and < k and bitwise_and > max_value:\n",
    "                max_value = bitwise_and\n",
    "        aux += 1\n",
    "    return(max_value)\n",
    "\n",
    "print(bitwise(n,k))"
   ]
  }
 ]
}