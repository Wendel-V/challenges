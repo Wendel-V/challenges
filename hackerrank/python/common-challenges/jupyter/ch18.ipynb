{
 "metadata": {
  "language_info": {
   "codemirror_mode": {
    "name": "ipython",
    "version": 3
   },
   "file_extension": ".py",
   "mimetype": "text/x-python",
   "name": "python",
   "nbconvert_exporter": "python",
   "pygments_lexer": "ipython3",
   "version": "3.8.5-final"
  },
  "orig_nbformat": 2,
  "kernelspec": {
   "name": "python3",
   "display_name": "Python 3",
   "language": "python"
  }
 },
 "nbformat": 4,
 "nbformat_minor": 2,
 "cells": [
  {
   "cell_type": "code",
   "execution_count": 43,
   "metadata": {},
   "outputs": [],
   "source": [
    "y = 1804\n",
    "\n",
    "def dayOfProgrammer(year):\n",
    "    if year > 1918:\n",
    "        if (year % 400 == 0) or (year % 4 == 0 and (not year % 100 == 0)):\n",
    "            return f'12.09.{year}'\n",
    "        else:\n",
    "            return f'13.09.{year}'\n",
    "    elif year == 1918:\n",
    "        return f'26.09.{year}'\n",
    "    else:\n",
    "        if year % 4 == 0:\n",
    "            return f'12.09.{year}'\n",
    "        else:\n",
    "            return f'13.09.{year}'"
   ]
  }
 ]
}