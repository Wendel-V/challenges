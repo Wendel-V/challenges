{
 "metadata": {
  "language_info": {
   "codemirror_mode": {
    "name": "ipython",
    "version": 3
   },
   "file_extension": ".py",
   "mimetype": "text/x-python",
   "name": "python",
   "nbconvert_exporter": "python",
   "pygments_lexer": "ipython3",
   "version": "3.8.6-final"
  },
  "orig_nbformat": 2,
  "kernelspec": {
   "name": "python3",
   "display_name": "Python 3.8.6 64-bit",
   "metadata": {
    "interpreter": {
     "hash": "4d7122b0d99b2cef9d5657ff69b5f6e9fec2de8231d753a7be2ec25a7a73ac15"
    }
   }
  }
 },
 "nbformat": 4,
 "nbformat_minor": 2,
 "cells": [
  {
   "cell_type": "code",
   "execution_count": 36,
   "metadata": {},
   "outputs": [],
   "source": [
    "def countApplesAndOranges(s, t, a, b, apples, oranges):\n",
    "    n_apple, n_orange = 0, 0\n",
    "    house = range(s,(t+1))\n",
    "    apples_fell, oranges_fell = [],[]\n",
    "\n",
    "    for apple in apples:\n",
    "        apples_fell.append(apple + int(a))\n",
    "    for orange in oranges:\n",
    "        oranges_fell.append(orange + int(b))\n",
    "    for apple in apples_fell:\n",
    "        if(apple in house):\n",
    "            n_apple += 1\n",
    "    for orange in oranges_fell:\n",
    "        if(orange in house):\n",
    "            n_orange += 1\n",
    "            \n",
    "    print(n_apple)\n",
    "    print(n_orange)"
   ]
  },
  {
   "cell_type": "code",
   "execution_count": 37,
   "metadata": {},
   "outputs": [
    {
     "output_type": "stream",
     "name": "stdout",
     "text": [
      "1\n2\n"
     ]
    }
   ],
   "source": [
    "countApplesAndOranges(7,11,5,15,[-2,2,1],[5,-6, -6])"
   ]
  },
  {
   "cell_type": "code",
   "execution_count": null,
   "metadata": {},
   "outputs": [],
   "source": []
  }
 ]
}