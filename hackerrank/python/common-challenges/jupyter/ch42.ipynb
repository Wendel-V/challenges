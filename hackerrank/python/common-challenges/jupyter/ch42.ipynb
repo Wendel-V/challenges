{
 "cells": [
  {
   "cell_type": "markdown",
   "metadata": {},
   "source": [
    "Lisa just got a new math workbook. A workbook contains exercise problems, grouped into chapters. Lisa believes a problem to be special if its index (within a chapter) is the same as the page number where it's located. The format of Lisa's book is as follows:\n",
    "\n",
    "    There are \n",
    "\n",
    "chapters in Lisa's workbook, numbered from to\n",
    ".\n",
    "The\n",
    "chapter has problems, numbered from to\n",
    ".\n",
    "Each page can hold up to\n",
    "problems. Only a chapter's last page of exercises may contain fewer than\n",
    "problems.\n",
    "Each new chapter starts on a new page, so a page will never contain problems from more than one chapter.\n",
    "The page number indexing starts at\n",
    "\n",
    "    .\n",
    "\n",
    "Given the details for Lisa's workbook, can you count its number of special problems?\n",
    "\n",
    "Example\n",
    "\n",
    "Lisa's workbook contains problems for chapter , and problems for chapter . Each page can hold\n",
    "\n",
    "problems.\n",
    "\n",
    "The first page will hold\n",
    "problems for chapter . Problem is on page , so it is special. Page contains only Chapter , Problem , so no special problem is on page . Chapter problems start on page and there are problems. Since there is no problem on page , there is no special problem on that page either. There is\n",
    "\n",
    "special problem in her workbook.\n",
    "\n",
    "Note: See the diagram in the Explanation section for more details.\n",
    "\n",
    "Function Description\n",
    "\n",
    "Complete the workbook function in the editor below.\n",
    "\n",
    "workbook has the following parameter(s):\n",
    "\n",
    "    int n: the number of chapters\n",
    "    int k: the maximum number of problems per page\n",
    "    int arr[n]: the number of problems in each chapter\n",
    "\n",
    "Returns\n",
    "- int: the number of special problems in the workbook\n",
    "\n",
    "Input Format\n",
    "\n",
    "The first line contains two integers\n",
    "and , the number of chapters and the maximum number of problems per page.\n",
    "The second line contains space-separated integers where denotes the number of problems in the chapter."
   ]
  },
  {
   "cell_type": "code",
   "execution_count": 1,
   "metadata": {},
   "outputs": [],
   "source": [
    "def workbook(n, k, arr):\n",
    "    special = 0\n",
    "    total = 1\n",
    "    for problems in arr: \n",
    "        page = 1     \n",
    "        for problem in range(1, problems + 1):\n",
    "            if problem == total: special += 1\n",
    "            if problem % k == 0 and problem != problems:\n",
    "                page += 1\n",
    "                total += 1\n",
    "            if problem == problems:\n",
    "                total += 1\n",
    "    return special"
   ]
  },
  {
   "cell_type": "code",
   "execution_count": null,
   "metadata": {},
   "outputs": [],
   "source": []
  }
 ],
 "metadata": {
  "interpreter": {
   "hash": "916dbcbb3f70747c44a77c7bcd40155683ae19c65e1c03b4aa3499c5328201f1"
  },
  "kernelspec": {
   "display_name": "Python 3.8.10 64-bit",
   "language": "python",
   "name": "python3"
  },
  "language_info": {
   "codemirror_mode": {
    "name": "ipython",
    "version": 3
   },
   "file_extension": ".py",
   "mimetype": "text/x-python",
   "name": "python",
   "nbconvert_exporter": "python",
   "pygments_lexer": "ipython3",
   "version": "3.8.10"
  },
  "orig_nbformat": 4
 },
 "nbformat": 4,
 "nbformat_minor": 2
}
