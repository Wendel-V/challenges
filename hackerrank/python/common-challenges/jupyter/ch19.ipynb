{
 "metadata": {
  "language_info": {
   "codemirror_mode": {
    "name": "ipython",
    "version": 3
   },
   "file_extension": ".py",
   "mimetype": "text/x-python",
   "name": "python",
   "nbconvert_exporter": "python",
   "pygments_lexer": "ipython3",
   "version": "3.8.5-final"
  },
  "orig_nbformat": 2,
  "kernelspec": {
   "name": "python3",
   "display_name": "Python 3",
   "language": "python"
  }
 },
 "nbformat": 4,
 "nbformat_minor": 2,
 "cells": [
  {
   "cell_type": "code",
   "execution_count": 14,
   "metadata": {},
   "outputs": [
    {
     "output_type": "stream",
     "name": "stdout",
     "text": [
      "5\n"
     ]
    }
   ],
   "source": [
    "bill = [3, 10, 2, 9]\n",
    "\n",
    "k = 1\n",
    "\n",
    "b = 12\n",
    "\n",
    "def bonAppetit(bill, k, b):\n",
    "    b_correct = (sum(bill) - bill[k]) / 2\n",
    "    if b - b_correct != 0:\n",
    "        print(int(b - b_correct))\n",
    "    else:\n",
    "        print('Bon Appetit')\n",
    "\n",
    "\n",
    "bonAppetit(bill,k,b)"
   ]
  },
  {
   "cell_type": "code",
   "execution_count": null,
   "metadata": {},
   "outputs": [],
   "source": []
  }
 ]
}