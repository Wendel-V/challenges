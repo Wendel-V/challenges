{
 "cells": [
  {
   "cell_type": "markdown",
   "metadata": {},
   "source": [
    "There is a sequence of words in CamelCase as a string of letters,\n",
    "\n",
    ", having the following properties:\n",
    "\n",
    "    It is a concatenation of one or more words consisting of English letters.\n",
    "    All letters in the first word are lowercase.\n",
    "    For each of the subsequent words, the first letter is uppercase and rest of the letters are lowercase.\n",
    "\n",
    "Given\n",
    ", determine the number of words in\n",
    "\n",
    ".\n",
    "\n",
    "Example\n",
    "There are\n",
    "\n",
    "words in the string: 'one', 'Two', 'Three'.\n",
    "\n",
    "Function Description\n",
    "\n",
    "Complete the camelcase function in the editor below.\n",
    "\n",
    "camelcase has the following parameter(s):\n",
    "\n",
    "    string s: the string to analyze\n",
    "\n",
    "Returns\n",
    "\n",
    "    int: the number of words in\n",
    "\n",
    "Input Format\n",
    "\n",
    "A single line containing string\n",
    "\n",
    ".\n",
    "\n",
    "Constraints\n",
    "\n"
   ]
  },
  {
   "cell_type": "code",
   "execution_count": 12,
   "metadata": {},
   "outputs": [],
   "source": [
    "def camelcase(s):\n",
    "    if s == '': return 0\n",
    "    count = 1\n",
    "    for char in s:\n",
    "        if char.isupper():\n",
    "            count += 1\n",
    "    return count"
   ]
  }
 ],
 "metadata": {
  "interpreter": {
   "hash": "916dbcbb3f70747c44a77c7bcd40155683ae19c65e1c03b4aa3499c5328201f1"
  },
  "kernelspec": {
   "display_name": "Python 3.8.10 64-bit",
   "language": "python",
   "name": "python3"
  },
  "language_info": {
   "codemirror_mode": {
    "name": "ipython",
    "version": 3
   },
   "file_extension": ".py",
   "mimetype": "text/x-python",
   "name": "python",
   "nbconvert_exporter": "python",
   "pygments_lexer": "ipython3",
   "version": "3.8.10"
  },
  "orig_nbformat": 4
 },
 "nbformat": 4,
 "nbformat_minor": 2
}
