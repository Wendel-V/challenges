{
 "metadata": {
  "language_info": {
   "codemirror_mode": {
    "name": "ipython",
    "version": 3
   },
   "file_extension": ".py",
   "mimetype": "text/x-python",
   "name": "python",
   "nbconvert_exporter": "python",
   "pygments_lexer": "ipython3",
   "version": "3.8.5-final"
  },
  "orig_nbformat": 2,
  "kernelspec": {
   "name": "python3",
   "display_name": "Python 3",
   "language": "python"
  }
 },
 "nbformat": 4,
 "nbformat_minor": 2,
 "cells": [
  {
   "cell_type": "code",
   "execution_count": 120,
   "metadata": {},
   "outputs": [],
   "source": [
    "def migratoryBirds(arr):\n",
    "    types = {1: 0, 2: 0, 3: 0, 4: 0, 5: 0 }\n",
    "    for bird in arr:\n",
    "        types[bird] += 1\n",
    "\n",
    "    types_list_tuple = list(types.items())[::-1]\n",
    "    max_num = 0\n",
    "    list_tuple2 = []\n",
    "\n",
    "    for i in types_list_tuple:\n",
    "        if i[1] >= max_num:\n",
    "            list_tuple2.append(i)\n",
    "            max_num = i[1]\n",
    "\n",
    "    max_num = 0\n",
    "    max_element = list_tuple2[0]\n",
    "    for a in list_tuple2:\n",
    "        if max_num <= a[1]:\n",
    "            max_num = a[1]\n",
    "            max_element = a\n",
    "\n",
    "    return max_element[0]"
   ]
  }
 ]
}