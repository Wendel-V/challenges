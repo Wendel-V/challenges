{
 "metadata": {
  "language_info": {
   "codemirror_mode": {
    "name": "ipython",
    "version": 3
   },
   "file_extension": ".py",
   "mimetype": "text/x-python",
   "name": "python",
   "nbconvert_exporter": "python",
   "pygments_lexer": "ipython3",
   "version": "3.8.5-final"
  },
  "orig_nbformat": 2,
  "kernelspec": {
   "name": "python3",
   "display_name": "Python 3",
   "language": "python"
  }
 },
 "nbformat": 4,
 "nbformat_minor": 2,
 "cells": [
  {
   "cell_type": "code",
   "execution_count": 89,
   "metadata": {},
   "outputs": [],
   "source": [
    "def sockMerchant(n, ar):\n",
    "    sock_types = list(set(ar))\n",
    "    socks = {}\n",
    "    for type in sock_types:\n",
    "        count = 0\n",
    "        for sock in ar:\n",
    "            if type == sock:\n",
    "                count += 1\n",
    "        socks[type] = count\n",
    "        count = 0\n",
    "    for item in socks:\n",
    "        if socks[item] <= 1:\n",
    "            socks[item] = 0\n",
    "        if socks[item] % 2 != 0:\n",
    "            socks[item] -= 1\n",
    "    return int(sum(socks.values()) / 2)"
   ]
  }
 ]
}