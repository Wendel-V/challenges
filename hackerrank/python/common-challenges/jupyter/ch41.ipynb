{
 "cells": [
  {
   "cell_type": "markdown",
   "metadata": {},
   "source": [
    "A driver is driving on the freeway. The check engine light of his vehicle is on, and the driver wants to get service immediately. Luckily, a service lane runs parallel to the highway. It varies in width along its length.\n",
    "\n",
    "Paradise Highway\n",
    "\n",
    "You will be given an array of widths at points along the road (indices), then a list of the indices of entry and exit points. Considering each entry and exit point pair, calculate the maximum size vehicle that can travel that segment of the service lane safely.\n",
    "\n",
    "Example\n",
    "\n",
    "\n",
    "If the entry index, and the exit, , there are two segment widths of and respectively. The widest vehicle that can fit through both is . If and , the widths are which limits vehicle width to . "
   ]
  },
  {
   "cell_type": "code",
   "execution_count": 22,
   "metadata": {},
   "outputs": [],
   "source": [
    "width = [2, 3, 1, 2, 3, 2, 3, 3]\n",
    "cases = [[0, 3], [4, 6], [6, 7], [3, 5], [0, 7]]\n",
    "\n",
    "def serviceLane(width, cases):\n",
    "    lim = []\n",
    "    for case in cases:\n",
    "        ran = width[case[0]:case[1]+1]\n",
    "        lim.append(min(ran))\n",
    "    return lim"
   ]
  }
 ],
 "metadata": {
  "interpreter": {
   "hash": "916dbcbb3f70747c44a77c7bcd40155683ae19c65e1c03b4aa3499c5328201f1"
  },
  "kernelspec": {
   "display_name": "Python 3.8.10 64-bit",
   "language": "python",
   "name": "python3"
  },
  "language_info": {
   "codemirror_mode": {
    "name": "ipython",
    "version": 3
   },
   "file_extension": ".py",
   "mimetype": "text/x-python",
   "name": "python",
   "nbconvert_exporter": "python",
   "pygments_lexer": "ipython3",
   "version": "3.8.10"
  },
  "orig_nbformat": 4
 },
 "nbformat": 4,
 "nbformat_minor": 2
}
