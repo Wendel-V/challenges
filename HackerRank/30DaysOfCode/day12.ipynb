{
 "metadata": {
  "language_info": {
   "codemirror_mode": {
    "name": "ipython",
    "version": 3
   },
   "file_extension": ".py",
   "mimetype": "text/x-python",
   "name": "python",
   "nbconvert_exporter": "python",
   "pygments_lexer": "ipython3",
   "version": "3.8.5-final"
  },
  "orig_nbformat": 2,
  "kernelspec": {
   "name": "python3",
   "display_name": "Python 3",
   "language": "python"
  }
 },
 "nbformat": 4,
 "nbformat_minor": 2,
 "cells": [
  {
   "cell_type": "code",
   "execution_count": 1,
   "metadata": {},
   "outputs": [],
   "source": [
    "class Person:\n",
    "\tdef __init__(self, firstName, lastName, idNumber):\n",
    "\t\tself.firstName = firstName\n",
    "\t\tself.lastName = lastName\n",
    "\t\tself.idNumber = idNumber\n",
    "\tdef printPerson(self):\n",
    "\t\tprint(\"Name:\", self.lastName + \",\", self.firstName)\n",
    "\t\tprint(\"ID:\", self.idNumber)\n",
    "\n",
    "class Student(Person):  \n",
    "    def __init__(self, firstName, lastName, id, scores):\n",
    "        Person.__init__(self, firstName, lastName, id)\n",
    "        self.scores = scores\n",
    "\n",
    "    def calculate(self):\n",
    "        average = sum(self.scores) / len(self.scores)\n",
    "        if(90 <= average <= 100):\n",
    "            return 'O'\n",
    "        if(80 <= average < 90):\n",
    "            return 'E'\n",
    "        if(70 <= average < 80):\n",
    "            return 'A'\n",
    "        if(55 <= average < 70):\n",
    "            return 'P'\n",
    "        if(40 <= average < 55):\n",
    "            return 'D'\n",
    "        if(0 <= average < 40):\n",
    "            return 'T'\n",
    "        "
   ]
  },
  {
   "cell_type": "code",
   "execution_count": null,
   "metadata": {},
   "outputs": [],
   "source": []
  }
 ]
}