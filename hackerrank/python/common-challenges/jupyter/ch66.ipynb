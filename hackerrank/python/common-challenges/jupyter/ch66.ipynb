{
 "cells": [
  {
   "cell_type": "code",
   "execution_count": 29,
   "metadata": {},
   "outputs": [
    {
     "name": "stdout",
     "output_type": "stream",
     "text": [
      "9 17\n"
     ]
    }
   ],
   "source": [
    "#Alphabet Rangoli\n",
    "\n",
    "def print_rangoli(size):\n",
    "    import string    \n",
    "    letters = list(string.ascii_lowercase[:size])\n",
    "    altura = (size * 2) - 1\n",
    "    largura = altura * 2 - 1\n",
    "    letters = letters[::-1]\n",
    "\n",
    "    for i in range(1, len(letters) + 1):\n",
    "        a = '-'.join(letters[:i])\n",
    "        b = a[::-1][1:]\n",
    "        print((a+b).center(largura, '-'))\n",
    "\n",
    "    for i in range(len(letters)-1, 0, -1):\n",
    "        a = '-'.join(letters[:i])\n",
    "        b = a[::-1][1:]\n",
    "        print((a+b).center(largura, '-'))\n",
    "\n"
   ]
  }
 ],
 "metadata": {
  "interpreter": {
   "hash": "916dbcbb3f70747c44a77c7bcd40155683ae19c65e1c03b4aa3499c5328201f1"
  },
  "kernelspec": {
   "display_name": "Python 3.8.10 64-bit",
   "language": "python",
   "name": "python3"
  },
  "language_info": {
   "codemirror_mode": {
    "name": "ipython",
    "version": 3
   },
   "file_extension": ".py",
   "mimetype": "text/x-python",
   "name": "python",
   "nbconvert_exporter": "python",
   "pygments_lexer": "ipython3",
   "version": "3.8.10"
  },
  "orig_nbformat": 4
 },
 "nbformat": 4,
 "nbformat_minor": 2
}
