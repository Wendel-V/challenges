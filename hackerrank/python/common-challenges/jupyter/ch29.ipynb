{
 "cells": [
  {
   "cell_type": "code",
   "execution_count": 64,
   "metadata": {},
   "outputs": [],
   "source": [
    "\n",
    "\n",
    "k = 3\n",
    "\n",
    "\n",
    "c = [0, 0, 1, 0, 0, 1, 1, 0]\n",
    "c = [0, 1, 1, 0, 1, 0, 1, 1, 0 ,1 ,1 ,0 ,0, 0, 0 ,0, 1 ,1 ,1, 1 ,1, 0, 1, 0]\n",
    "n = len(c)\n"
   ]
  },
  {
   "cell_type": "code",
   "execution_count": 65,
   "metadata": {},
   "outputs": [
    {
     "data": {
      "text/plain": [
       "82"
      ]
     },
     "execution_count": 65,
     "metadata": {},
     "output_type": "execute_result"
    }
   ],
   "source": [
    "n = len(c)\n",
    "e = 100\n",
    "i = (0 + k) % n\n",
    "path = []\n",
    "while i != 0:\n",
    "    path.append(i)\n",
    "    i = (i + k) % n\n",
    "if i == 0:\n",
    "    path.append(0)\n",
    "\n",
    "for element in path:\n",
    "    if c[element] != 0:\n",
    "        e -= 1\n",
    "    else:\n",
    "        e -= 3\n",
    "\n",
    "e\n"
   ]
  },
  {
   "cell_type": "code",
   "execution_count": 83,
   "metadata": {},
   "outputs": [
    {
     "name": "stdout",
     "output_type": "stream",
     "text": [
      "2\n",
      "4\n",
      "6\n",
      "8\n",
      "10\n",
      "12\n",
      "14\n"
     ]
    },
    {
     "data": {
      "text/plain": [
       "[1, 1, 1, 1, 1, 0, 1, 0]"
      ]
     },
     "execution_count": 83,
     "metadata": {},
     "output_type": "execute_result"
    }
   ],
   "source": [
    "e = 100\n",
    "c = [0, 0, 1, 0, 1, 1, 1, 1, 1, 1, 1, 0, 0, 0, 1, 1]\n",
    "k = 2\n",
    "n = len(c)\n",
    "i = (0 + k) % n\n",
    "\n",
    "path = []\n",
    "\n",
    "while i != 0:\n",
    "    if c[i] == 1:\n",
    "        e -= 3\n",
    "    else:\n",
    "        e -= 1\n",
    "    path.append(c[i])\n",
    "    print(i)\n",
    "    i = (i + k) % n\n",
    "e -= 1\n",
    "path.append(0)\n",
    "\n",
    "path"
   ]
  },
  {
   "cell_type": "code",
   "execution_count": 104,
   "metadata": {},
   "outputs": [
    {
     "name": "stdout",
     "output_type": "stream",
     "text": [
      "2\n",
      "3\n",
      "4\n",
      "5\n",
      "6\n",
      "7\n",
      "8\n",
      "9\n",
      "10\n",
      "11\n",
      "12\n",
      "13\n",
      "14\n",
      "15\n",
      "0\n"
     ]
    },
    {
     "data": {
      "text/plain": [
       "55"
      ]
     },
     "execution_count": 104,
     "metadata": {},
     "output_type": "execute_result"
    }
   ],
   "source": [
    "e = 100\n",
    "# = [0, 0, 1, 0, 1, 1, 1, 1, 1, 1, 1, 0, 0, 0, 1, 1]\n",
    "c = [1, 1, 1, 1, 1, 1, 1, 1, 1, 1, 1, 1, 1, 1, 1, 1]\n",
    "#c = [0, 0, 1, 0, 0, 1, 1, 0]\n",
    "k = 1\n",
    "n = len(c)\n",
    "i = (0 + k) % n\n",
    "\n",
    "path = [c[0]]\n",
    "\n",
    "while i != 0:\n",
    "    #print(c[i])\n",
    "    if c[i] == 1:\n",
    "        e -= 3\n",
    "    else:\n",
    "        e -= 1\n",
    "    path.append(c[i])\n",
    "    \n",
    "    i = (i + k) % n\n",
    "    print(i)\n",
    "\n",
    "\n",
    "\n",
    "\n",
    "e\n"
   ]
  },
  {
   "cell_type": "code",
   "execution_count": 124,
   "metadata": {},
   "outputs": [
    {
     "name": "stdout",
     "output_type": "stream",
     "text": [
      "path  0  index  0  e  100\n",
      "path  1  index  2  e  97\n",
      "path  1  index  4  e  94\n",
      "path  1  index  6  e  91\n",
      "path  1  index  8  e  88\n",
      "path  1  index  10  e  85\n",
      "path  0  index  12  e  84\n",
      "path  1  index  14  e  81\n",
      "path  0  index  0  e  80\n",
      "80\n"
     ]
    }
   ],
   "source": [
    "#c = [0, 0, 1, 0]\n",
    "#k = 2\n",
    "\n",
    "#c = [1, 1, 1, 1, 1, 1, 1, 1, 1, 1, 1, 1, 1, 1, 1, 1]\n",
    "#k = 1\n",
    "\n",
    "c = [0, 0, 1, 0, 1, 1, 1, 1, 1, 1, 1, 0, 0, 0, 1, 1]\n",
    "k = 2\n",
    "\n",
    "e = 100\n",
    "n = len(c)\n",
    "\n",
    "\n",
    "print('path ', c[i], ' index ', i, ' e ', e)\n",
    "\n",
    "i = (0 + k) % n\n",
    "\n",
    "\n",
    "\n",
    "while i != 0:\n",
    "    \n",
    "    if c[i] == 0:\n",
    "        e -= 1\n",
    "    else:\n",
    "        e -= 3\n",
    "    print('path ', c[i], ' index ', i, ' e ', e)\n",
    "    i = (i + k) % n\n",
    "\n",
    "if c[i] == 0:\n",
    "    e -= 1\n",
    "else:\n",
    "    e -= 3\n",
    "print('path ', c[i], ' index ', i, ' e ', e)\n",
    "\n",
    "print(e)"
   ]
  },
  {
   "cell_type": "code",
   "execution_count": 70,
   "metadata": {},
   "outputs": [
    {
     "data": {
      "text/plain": [
       "[0, 1, 1, 1, 1, 1, 0, 1]"
      ]
     },
     "execution_count": 70,
     "metadata": {},
     "output_type": "execute_result"
    }
   ],
   "source": [
    "path"
   ]
  },
  {
   "cell_type": "code",
   "execution_count": null,
   "metadata": {},
   "outputs": [],
   "source": []
  }
 ],
 "metadata": {
  "interpreter": {
   "hash": "916dbcbb3f70747c44a77c7bcd40155683ae19c65e1c03b4aa3499c5328201f1"
  },
  "kernelspec": {
   "display_name": "Python 3.8.10 64-bit",
   "language": "python",
   "name": "python3"
  },
  "language_info": {
   "codemirror_mode": {
    "name": "ipython",
    "version": 3
   },
   "file_extension": ".py",
   "mimetype": "text/x-python",
   "name": "python",
   "nbconvert_exporter": "python",
   "pygments_lexer": "ipython3",
   "version": "3.8.10"
  },
  "orig_nbformat": 4
 },
 "nbformat": 4,
 "nbformat_minor": 2
}
