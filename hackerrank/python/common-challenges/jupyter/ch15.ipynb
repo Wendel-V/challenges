{
 "metadata": {
  "language_info": {
   "codemirror_mode": {
    "name": "ipython",
    "version": 3
   },
   "file_extension": ".py",
   "mimetype": "text/x-python",
   "name": "python",
   "nbconvert_exporter": "python",
   "pygments_lexer": "ipython3",
   "version": "3.8.5-final"
  },
  "orig_nbformat": 2,
  "kernelspec": {
   "name": "python3",
   "display_name": "Python 3",
   "language": "python"
  }
 },
 "nbformat": 4,
 "nbformat_minor": 2,
 "cells": [
  {
   "cell_type": "code",
   "execution_count": 46,
   "metadata": {},
   "outputs": [],
   "source": [
    "s = [2, 5, 1, 3, 4, 4, 3, 5, 1, 1, 2, 1, 4, 1, 3, 3, 4, 2, 1]\n",
    "d = 18\n",
    "m = 7"
   ]
  },
  {
   "cell_type": "code",
   "execution_count": 47,
   "metadata": {},
   "outputs": [
    {
     "output_type": "stream",
     "name": "stdout",
     "text": [
      "3\n"
     ]
    }
   ],
   "source": [
    "def birthday(s, d, m):\n",
    "    num_seg = len(s) - m + 1\n",
    "    i = 0 \n",
    "    j = m\n",
    "    count = 0\n",
    "\n",
    "    if (len(s) == 1) and s[0] == d:\n",
    "        return count + 1\n",
    "\n",
    "    for segment in range(num_seg):\n",
    "        if j > len(s):\n",
    "            break\n",
    "        if sum(s[i:j]) == d:\n",
    "            count += 1\n",
    "        i += 1\n",
    "        j += 1\n",
    "    print(count)\n",
    "\n",
    "birthday(s,d,m)"
   ]
  },
  {
   "cell_type": "code",
   "execution_count": null,
   "metadata": {},
   "outputs": [],
   "source": []
  }
 ]
}