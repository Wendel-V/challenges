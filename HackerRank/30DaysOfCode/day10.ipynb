{
 "metadata": {
  "language_info": {
   "codemirror_mode": {
    "name": "ipython",
    "version": 3
   },
   "file_extension": ".py",
   "mimetype": "text/x-python",
   "name": "python",
   "nbconvert_exporter": "python",
   "pygments_lexer": "ipython3",
   "version": "3.8.5-final"
  },
  "orig_nbformat": 2,
  "kernelspec": {
   "name": "python3",
   "display_name": "Python 3",
   "language": "python"
  }
 },
 "nbformat": 4,
 "nbformat_minor": 2,
 "cells": [
  {
   "cell_type": "code",
   "execution_count": 24,
   "metadata": {},
   "outputs": [],
   "source": [
    "def divide(n):\n",
    "    if n == 1:\n",
    "        return str(n)\n",
    "    else:\n",
    "        return str(n % 2) + str(divide(n // 2))\n",
    "\n",
    "def toBin(n):\n",
    "    return divide(n)[::-1]\n"
   ]
  },
  {
   "cell_type": "code",
   "execution_count": 23,
   "metadata": {},
   "outputs": [
    {
     "output_type": "execute_result",
     "data": {
      "text/plain": [
       "2"
      ]
     },
     "metadata": {},
     "execution_count": 23
    }
   ],
   "source": [
    "binary = toBin(n).split(sep = '0')\n",
    "numbers = []\n",
    "\n",
    "for sequence in binary:\n",
    "    if sequence == '':\n",
    "        numbers.append(0)\n",
    "    else:\n",
    "        numbers.append(int(sequence))\n",
    "print(len(str(max(numbers))))\n"
   ]
  }
 ]
}