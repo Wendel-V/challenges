{
 "metadata": {
  "language_info": {
   "codemirror_mode": {
    "name": "ipython",
    "version": 3
   },
   "file_extension": ".py",
   "mimetype": "text/x-python",
   "name": "python",
   "nbconvert_exporter": "python",
   "pygments_lexer": "ipython3",
   "version": "3.8.6-final"
  },
  "orig_nbformat": 2,
  "kernelspec": {
   "name": "python3",
   "display_name": "Python 3.8.6 64-bit",
   "metadata": {
    "interpreter": {
     "hash": "4d7122b0d99b2cef9d5657ff69b5f6e9fec2de8231d753a7be2ec25a7a73ac15"
    }
   }
  }
 },
 "nbformat": 4,
 "nbformat_minor": 2,
 "cells": [
  {
   "cell_type": "code",
   "execution_count": 37,
   "metadata": {},
   "outputs": [
    {
     "output_type": "execute_result",
     "data": {
      "text/plain": [
       "-1"
      ]
     },
     "metadata": {},
     "execution_count": 37
    }
   ],
   "source": [
    "b = 5\n",
    "keyboards = [4]\n",
    "drives = [5]\n",
    "\n",
    "def getMoneySpent(keyboards, drives, b):\n",
    "    orders = []\n",
    "    for keyboard in keyboards:\n",
    "        for drive in drives:\n",
    "            buy = drive + keyboard\n",
    "            if buy <= b:\n",
    "                orders.append(buy)\n",
    "    if orders:\n",
    "        return max(orders)\n",
    "    else:\n",
    "        return -1\n",
    "\n",
    "getMoneySpent(keyboards, drives, b)"
   ]
  }
 ]
}