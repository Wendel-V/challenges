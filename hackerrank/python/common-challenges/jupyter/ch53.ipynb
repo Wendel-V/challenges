{
 "cells": [
  {
   "cell_type": "code",
   "execution_count": 1,
   "metadata": {},
   "outputs": [],
   "source": [
    "#Find the percentage\n",
    "\n",
    "query = {\n",
    "    'alpha':[20,30,40],\n",
    "    'beta':[30,50,70]\n",
    "}\n",
    "\n",
    "result = round(sum(query['alpha']) / len(query['alpha']), 3)\n",
    "\n",
    "print('{:.2f}'.format(result))"
   ]
  }
 ],
 "metadata": {
  "interpreter": {
   "hash": "916dbcbb3f70747c44a77c7bcd40155683ae19c65e1c03b4aa3499c5328201f1"
  },
  "kernelspec": {
   "display_name": "Python 3.8.10 64-bit",
   "language": "python",
   "name": "python3"
  },
  "language_info": {
   "codemirror_mode": {
    "name": "ipython",
    "version": 3
   },
   "file_extension": ".py",
   "mimetype": "text/x-python",
   "name": "python",
   "nbconvert_exporter": "python",
   "pygments_lexer": "ipython3",
   "version": "3.8.10"
  },
  "orig_nbformat": 4
 },
 "nbformat": 4,
 "nbformat_minor": 2
}
