{
 "metadata": {
  "language_info": {
   "codemirror_mode": {
    "name": "ipython",
    "version": 3
   },
   "file_extension": ".py",
   "mimetype": "text/x-python",
   "name": "python",
   "nbconvert_exporter": "python",
   "pygments_lexer": "ipython3",
   "version": "3.8.5-final"
  },
  "orig_nbformat": 2,
  "kernelspec": {
   "name": "python3",
   "display_name": "Python 3",
   "language": "python"
  }
 },
 "nbformat": 4,
 "nbformat_minor": 2,
 "cells": [
  {
   "cell_type": "code",
   "execution_count": 101,
   "metadata": {},
   "outputs": [
    {
     "output_type": "stream",
     "name": "stdout",
     "text": [
      "julia\njulia\nriya\nsamantha\ntanya\n"
     ]
    }
   ],
   "source": [
    "#utilizando Pandas\n",
    "\n",
    "import pandas as pd\n",
    "\n",
    "database = []\n",
    "\n",
    "database.append('riya riya@gmail.com')\n",
    "database.append('julia julia@julia.me')\n",
    "database.append('julia sjulia@gmail.com')\n",
    "database.append('julia julia@gmail.com')\n",
    "database.append('samantha samantha@gmail.com')\n",
    "database.append('tanya tanya@gmail.com')\n",
    "\n",
    "\n",
    "nomes = []\n",
    "emails = []\n",
    "for item in database:\n",
    "    separated = item.split(sep = ' ')\n",
    "    nomes.append(separated[0])\n",
    "    emails.append(separated[1])\n",
    "\n",
    "\n",
    "pessoas = pd.DataFrame(data = nomes, columns = ['nomes'])\n",
    "pessoas['emails'] = emails\n",
    "\n",
    "\n",
    "usuario = []\n",
    "dominio = []\n",
    "\n",
    "for item in pessoas['emails']:\n",
    "    separado = item.split('@')\n",
    "    usuario.append(separado[0])\n",
    "    dominio.append('@' + separado[1])\n",
    "\n",
    "pessoas['usuarios'] = usuario\n",
    "pessoas['dominio_email'] = dominio\n",
    "\n",
    "del pessoas['emails']\n",
    "\n",
    "pessoas_ordenadas = pessoas.sort_values(by = 'nomes')\n",
    "pessoas_ordenadas\n",
    "\n",
    "lista_desejada = list(pessoas_ordenadas.query(\"dominio_email == '@gmail.com'\")['nomes'])\n",
    "\n",
    "for i in lista_desejada:\n",
    "    print(i)"
   ]
  },
  {
   "cell_type": "code",
   "execution_count": 138,
   "metadata": {},
   "outputs": [
    {
     "output_type": "stream",
     "name": "stdout",
     "text": [
      "['julia', 'julia', 'riya', 'samantha']\n"
     ]
    }
   ],
   "source": [
    "import math\n",
    "import os\n",
    "import random\n",
    "import re\n",
    "import sys\n",
    "\n",
    "\n",
    "if __name__ == '__main__':\n",
    "    N = int(input())\n",
    "    \n",
    "    names = []\n",
    "    for N_itr in range(N):\n",
    "        firstNameEmailID = input().split()\n",
    "\n",
    "        firstName = firstNameEmailID[0]\n",
    "        \n",
    "        emailID = firstNameEmailID[1]\n",
    "\n",
    "        if re.search(r'@gmail.com', emailID):\n",
    "            names.append(firstName)\n",
    "\n",
    "    names.sort()\n",
    "\n",
    "    for name in names:\n",
    "        print(name)\n",
    "            \n",
    "        \n"
   ]
  }
 ]
}