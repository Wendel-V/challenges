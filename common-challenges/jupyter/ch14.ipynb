{
 "metadata": {
  "language_info": {
   "codemirror_mode": {
    "name": "ipython",
    "version": 3
   },
   "file_extension": ".py",
   "mimetype": "text/x-python",
   "name": "python",
   "nbconvert_exporter": "python",
   "pygments_lexer": "ipython3",
   "version": "3.8.5-final"
  },
  "orig_nbformat": 2,
  "kernelspec": {
   "name": "python3",
   "display_name": "Python 3",
   "language": "python"
  }
 },
 "nbformat": 4,
 "nbformat_minor": 2,
 "cells": [
  {
   "cell_type": "code",
   "execution_count": 5,
   "metadata": {},
   "outputs": [],
   "source": [
    "# scores = [10, 5, 20, 20, 4, 5, 2, 25, 1]\n",
    "\n",
    "scores = [3, 4, 21, 36, 10, 28, 35, 5, 24, 42]\n",
    "\n",
    "\n",
    "def breakingRecords(scores):\n",
    "    \n",
    "    records_broken = [0, 0]\n",
    "    max_record = scores[0]\n",
    "    min_record = scores[0]\n",
    "\n",
    "    for score in scores:\n",
    "        if score > max_record:\n",
    "            max_record = score\n",
    "            records_broken[0] += 1\n",
    "        elif score < min_record:\n",
    "            min_record = score\n",
    "            records_broken[1] += 1\n",
    "\n",
    "    return records_broken"
   ]
  },
  {
   "cell_type": "code",
   "execution_count": null,
   "metadata": {},
   "outputs": [],
   "source": []
  }
 ]
}