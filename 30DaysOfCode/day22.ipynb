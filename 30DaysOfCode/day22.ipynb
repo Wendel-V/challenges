{
 "metadata": {
  "language_info": {
   "codemirror_mode": {
    "name": "ipython",
    "version": 3
   },
   "file_extension": ".py",
   "mimetype": "text/x-python",
   "name": "python",
   "nbconvert_exporter": "python",
   "pygments_lexer": "ipython3",
   "version": "3.8.5-final"
  },
  "orig_nbformat": 2,
  "kernelspec": {
   "name": "python3",
   "display_name": "Python 3",
   "language": "python"
  }
 },
 "nbformat": 4,
 "nbformat_minor": 2,
 "cells": [
  {
   "cell_type": "code",
   "execution_count": 86,
   "metadata": {},
   "outputs": [],
   "source": [
    "class Node:\n",
    "    def __init__(self,data):\n",
    "        self.right=self.left=None\n",
    "        self.data = data\n",
    "class Solution:\n",
    "    def insert(self,root,data):\n",
    "        if root==None:\n",
    "            return Node(data)\n",
    "        else:\n",
    "            if data<=root.data:\n",
    "                cur=self.insert(root.left,data)\n",
    "                root.left=cur\n",
    "            else:\n",
    "                cur=self.insert(root.right,data)\n",
    "                root.right=cur\n",
    "        return root\n",
    "\n",
    " \n",
    "\n",
    "    def getHeight(self,root):\n",
    "        #Write your code here\n",
    "        if root == None or root.left == None or root.right == None:\n",
    "            return 0 \n",
    "        else:\n",
    "            return 1+ max(self.getHeight(root.left), self.getHeight(root.right))\n",
    "\n",
    "\n"
   ]
  },
  {
   "cell_type": "code",
   "execution_count": 88,
   "metadata": {},
   "outputs": [
    {
     "output_type": "stream",
     "name": "stdout",
     "text": [
      "4\n"
     ]
    }
   ],
   "source": [
    "\n",
    "myTree=Solution()\n",
    "root=None\n",
    "root=myTree.insert(root,20)\n",
    "root=myTree.insert(root,50)\n",
    "root=myTree.insert(root,35)\n",
    "root=myTree.insert(root,44)\n",
    "root=myTree.insert(root,9)\n",
    "root=myTree.insert(root,15)\n",
    "root=myTree.insert(root,62)\n",
    "root=myTree.insert(root,11)\n",
    "root=myTree.insert(root,13)\n",
    "\n",
    "\n",
    "\n",
    "height=myTree.getHeight(root)\n",
    "print(height)      \n"
   ]
  },
  {
   "cell_type": "code",
   "execution_count": null,
   "metadata": {},
   "outputs": [],
   "source": [
    "        while (root.left != 0) or (root.right.data != 0):\n",
    "            if root.left == 0:\n",
    "                root = root.left\n",
    "                height += 1\n",
    "            elif root.right == 0:\n",
    "                root = root.right\n",
    "                height += 1\n",
    "            else:\n",
    "                if root.right.data > root.left.data:\n",
    "                    root = root.right\n",
    "                    height +=1\n",
    "                else:\n",
    "                    root = root.left\n",
    "                    height += 1"
   ]
  },
  {
   "cell_type": "code",
   "execution_count": 78,
   "metadata": {},
   "outputs": [
    {
     "output_type": "execute_result",
     "data": {
      "text/plain": [
       "50"
      ]
     },
     "metadata": {},
     "execution_count": 78
    }
   ],
   "source": [
    "height = 0\n",
    "\n",
    "if root.left != None or root.right != None:\n",
    "    if root.left != None and root.right == None:\n",
    "        root = root.left\n",
    "        height += 1\n",
    "    elif root.left == None and root.right != None:\n",
    "        root = root.right\n",
    "        height += 1\n",
    "    else:\n",
    "        if root.right.data > root.left.data:\n",
    "            root = root.right\n",
    "            height +=1\n",
    "        else:\n",
    "            root = root.left\n",
    "            height += 1\n",
    "else:\n",
    "    print('Não tem')\n",
    "\n",
    "root.data\n",
    "\n"
   ]
  },
  {
   "cell_type": "code",
   "execution_count": 67,
   "metadata": {},
   "outputs": [
    {
     "output_type": "execute_result",
     "data": {
      "text/plain": [
       "6"
      ]
     },
     "metadata": {},
     "execution_count": 67
    }
   ],
   "source": [
    "if root.left != None or root.right != None:\n",
    "    if root.left != None and root.right == None:\n",
    "        root = root.left\n",
    "        height += 1\n",
    "    elif root.left == None and root.right != None:\n",
    "        root = root.right\n",
    "        height += 1\n",
    "    else:\n",
    "        if root.right.data > root.left.data:\n",
    "            root = root.right\n",
    "            height +=1\n",
    "        else:\n",
    "            root = root.left\n",
    "            height += 1\n",
    "else:\n",
    "    print('Não tem')\n",
    "\n",
    "root.data"
   ]
  },
  {
   "cell_type": "code",
   "execution_count": 68,
   "metadata": {},
   "outputs": [
    {
     "output_type": "execute_result",
     "data": {
      "text/plain": [
       "7"
      ]
     },
     "metadata": {},
     "execution_count": 68
    }
   ],
   "source": [
    "if root.left != None or root.right != None:\n",
    "    if root.left != None and root.right == None:\n",
    "        root = root.left\n",
    "        height += 1\n",
    "    elif root.left == None and root.right != None:\n",
    "        root = root.right\n",
    "        height += 1\n",
    "    else:\n",
    "        if root.right.data > root.left.data:\n",
    "            root = root.right\n",
    "            height +=1\n",
    "        else:\n",
    "            root = root.left\n",
    "            height += 1\n",
    "else:\n",
    "    print('Não tem')\n",
    "\n",
    "root.data"
   ]
  },
  {
   "cell_type": "code",
   "execution_count": 69,
   "metadata": {},
   "outputs": [
    {
     "output_type": "stream",
     "name": "stdout",
     "text": [
      "Não tem\n"
     ]
    },
    {
     "output_type": "execute_result",
     "data": {
      "text/plain": [
       "7"
      ]
     },
     "metadata": {},
     "execution_count": 69
    }
   ],
   "source": [
    "if root.left != None or root.right != None:\n",
    "    if root.left != None and root.right == None:\n",
    "        root = root.left\n",
    "        height += 1\n",
    "    elif root.left == None and root.right != None:\n",
    "        root = root.right\n",
    "        height += 1\n",
    "    else:\n",
    "        if root.right.data > root.left.data:\n",
    "            root = root.right\n",
    "            height +=1\n",
    "        else:\n",
    "            root = root.left\n",
    "            height += 1\n",
    "else:\n",
    "    print('Não tem')\n",
    "\n",
    "root.data"
   ]
  },
  {
   "cell_type": "code",
   "execution_count": null,
   "metadata": {},
   "outputs": [],
   "source": []
  }
 ]
}