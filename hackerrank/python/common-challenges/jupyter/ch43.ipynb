{
 "cells": [
  {
   "cell_type": "markdown",
   "metadata": {},
   "source": [
    "Dothraki are planning an attack to usurp King Robert's throne. King Robert learns of this conspiracy from Raven and plans to lock the single door through which the enemy can enter his kingdom.\n",
    "\n",
    "door\n",
    "\n",
    "But, to lock the door he needs a key that is an anagram of a palindrome. He starts to go through his box of strings, checking to see if they can be rearranged into a palindrome. Given a string, determine if it can be rearranged into a palindrome. Return the string YES or NO.\n",
    "\n",
    "Example\n",
    "One way this can be arranged into a palindrome is\n",
    "\n",
    ". Return YES.\n",
    "\n",
    "Function Description\n",
    "Complete the gameOfThrones function below.\n",
    "\n",
    "gameOfThrones has the following parameter(s):\n",
    "\n",
    "    string s: a string to analyze\n",
    "\n",
    "Returns\n",
    "\n",
    "    string: either YES or NO\n",
    "\n",
    "Input Format\n",
    "\n",
    "A single line which contains\n",
    "."
   ]
  },
  {
   "cell_type": "code",
   "execution_count": 72,
   "metadata": {},
   "outputs": [],
   "source": [
    "def gameOfThrones(s):\n",
    "    odd = 0\n",
    "    for char in list(set(s)):\n",
    "        if s.count(char) % 2 != 0:\n",
    "            odd += 1\n",
    "    if (len(s) % 2 == 0 and odd == 0) or (len(s) % 2 != 0 and odd == 1):\n",
    "        return 'YES'\n",
    "    else:\n",
    "        return 'NO'"
   ]
  },
  {
   "cell_type": "code",
   "execution_count": null,
   "metadata": {},
   "outputs": [],
   "source": []
  }
 ],
 "metadata": {
  "interpreter": {
   "hash": "916dbcbb3f70747c44a77c7bcd40155683ae19c65e1c03b4aa3499c5328201f1"
  },
  "kernelspec": {
   "display_name": "Python 3.8.10 64-bit",
   "language": "python",
   "name": "python3"
  },
  "language_info": {
   "codemirror_mode": {
    "name": "ipython",
    "version": 3
   },
   "file_extension": ".py",
   "mimetype": "text/x-python",
   "name": "python",
   "nbconvert_exporter": "python",
   "pygments_lexer": "ipython3",
   "version": "3.8.10"
  },
  "orig_nbformat": 4
 },
 "nbformat": 4,
 "nbformat_minor": 2
}
