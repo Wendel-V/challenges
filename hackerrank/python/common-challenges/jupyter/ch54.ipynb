{
 "cells": [
  {
   "cell_type": "code",
   "execution_count": 24,
   "metadata": {},
   "outputs": [],
   "source": [
    "# Lists\n",
    "\n",
    "\n",
    "if __name__ == '__main__':\n",
    "    N = int(input())\n",
    "    \n",
    "result = []\n",
    "for i in range(N):\n",
    "    splited=input().strip().split(\" \")\n",
    "    if splited[0] == 'append':\n",
    "        result.append(int(splited[1]))\n",
    "    elif splited[0] == 'insert':\n",
    "        result.insert(int(splited[1]), int(splited[2]))\n",
    "    elif splited[0] == 'print':\n",
    "        print(result)\n",
    "    elif splited[0] == 'remove':\n",
    "        result.remove(int(splited[1]))\n",
    "    elif splited[0] == 'sort':\n",
    "        result.sort()\n",
    "    elif splited[0] == 'pop':\n",
    "        result.pop()\n",
    "    else:\n",
    "        result = result[::-1]"
   ]
  }
 ],
 "metadata": {
  "interpreter": {
   "hash": "916dbcbb3f70747c44a77c7bcd40155683ae19c65e1c03b4aa3499c5328201f1"
  },
  "kernelspec": {
   "display_name": "Python 3.8.10 64-bit",
   "language": "python",
   "name": "python3"
  },
  "language_info": {
   "codemirror_mode": {
    "name": "ipython",
    "version": 3
   },
   "file_extension": ".py",
   "mimetype": "text/x-python",
   "name": "python",
   "nbconvert_exporter": "python",
   "pygments_lexer": "ipython3",
   "version": "3.8.10"
  },
  "orig_nbformat": 4
 },
 "nbformat": 4,
 "nbformat_minor": 2
}
