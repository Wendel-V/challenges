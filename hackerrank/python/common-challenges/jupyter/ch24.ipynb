{
 "metadata": {
  "language_info": {
   "codemirror_mode": {
    "name": "ipython",
    "version": 3
   },
   "file_extension": ".py",
   "mimetype": "text/x-python",
   "name": "python",
   "nbconvert_exporter": "python",
   "pygments_lexer": "ipython3",
   "version": "3.8.6-final"
  },
  "orig_nbformat": 2,
  "kernelspec": {
   "name": "python3",
   "display_name": "Python 3.8.6 64-bit",
   "metadata": {
    "interpreter": {
     "hash": "4d7122b0d99b2cef9d5657ff69b5f6e9fec2de8231d753a7be2ec25a7a73ac15"
    }
   }
  }
 },
 "nbformat": 4,
 "nbformat_minor": 2,
 "cells": [
  {
   "cell_type": "code",
   "execution_count": 13,
   "metadata": {},
   "outputs": [
    {
     "output_type": "stream",
     "name": "stdout",
     "text": [
      "Cat B\nCat B\nMouse C\n"
     ]
    }
   ],
   "source": [
    "def catAndMouse(x, y, z):\n",
    "    dist_a = abs(z - x)\n",
    "    dist_b = abs(z - y)\n",
    "    if dist_a < dist_b:\n",
    "        return 'Cat A'\n",
    "    elif dist_a > dist_b:\n",
    "        return 'Cat B'\n",
    "    else:\n",
    "        return 'Mouse C'\n",
    "\n",
    "print(catAndMouse(2,5,4))\n",
    "print(catAndMouse(1,2,3))\n",
    "print(catAndMouse(1,3,2))"
   ]
  }
 ]
}