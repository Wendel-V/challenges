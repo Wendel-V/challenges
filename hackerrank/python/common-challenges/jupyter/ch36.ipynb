{
 "cells": [
  {
   "cell_type": "code",
   "execution_count": 11,
   "metadata": {},
   "outputs": [],
   "source": [
    "n = 25"
   ]
  },
  {
   "cell_type": "code",
   "execution_count": 12,
   "metadata": {},
   "outputs": [
    {
     "name": "stdout",
     "output_type": "stream",
     "text": [
      "1 x 25 = 1\n",
      "25 x 24 = 25\n",
      "600 x 23 = 600\n",
      "13800 x 22 = 13800\n",
      "303600 x 21 = 303600\n",
      "6375600 x 20 = 6375600\n",
      "127512000 x 19 = 127512000\n",
      "2422728000 x 18 = 2422728000\n",
      "43609104000 x 17 = 43609104000\n",
      "741354768000 x 16 = 741354768000\n",
      "11861676288000 x 15 = 11861676288000\n",
      "177925144320000 x 14 = 177925144320000\n",
      "2490952020480000 x 13 = 2490952020480000\n",
      "32382376266240000 x 12 = 32382376266240000\n",
      "388588515194880000 x 11 = 388588515194880000\n",
      "4274473667143680000 x 10 = 4274473667143680000\n",
      "42744736671436800000 x 9 = 42744736671436800000\n",
      "384702630042931200000 x 8 = 384702630042931200000\n",
      "3077621040343449600000 x 7 = 3077621040343449600000\n",
      "21543347282404147200000 x 6 = 21543347282404147200000\n",
      "129260083694424883200000 x 5 = 129260083694424883200000\n",
      "646300418472124416000000 x 4 = 646300418472124416000000\n",
      "2585201673888497664000000 x 3 = 2585201673888497664000000\n",
      "7755605021665492992000000 x 2 = 7755605021665492992000000\n",
      "15511210043330985984000000\n"
     ]
    }
   ],
   "source": [
    "result = 1\n",
    "for i in range(n,1, -1):\n",
    "    print(f'{result} x {i} = {result}')\n",
    "    result = result * i\n",
    "\n",
    "print(result)"
   ]
  },
  {
   "cell_type": "code",
   "execution_count": null,
   "metadata": {},
   "outputs": [],
   "source": []
  }
 ],
 "metadata": {
  "interpreter": {
   "hash": "916dbcbb3f70747c44a77c7bcd40155683ae19c65e1c03b4aa3499c5328201f1"
  },
  "kernelspec": {
   "display_name": "Python 3.8.10 64-bit",
   "language": "python",
   "name": "python3"
  },
  "language_info": {
   "codemirror_mode": {
    "name": "ipython",
    "version": 3
   },
   "file_extension": ".py",
   "mimetype": "text/x-python",
   "name": "python",
   "nbconvert_exporter": "python",
   "pygments_lexer": "ipython3",
   "version": "3.8.10"
  },
  "orig_nbformat": 4
 },
 "nbformat": 4,
 "nbformat_minor": 2
}
