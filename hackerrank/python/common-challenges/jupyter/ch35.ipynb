{
 "cells": [
  {
   "cell_type": "code",
   "execution_count": 16,
   "metadata": {},
   "outputs": [
    {
     "name": "stdout",
     "output_type": "stream",
     "text": [
      "rlyzatp oxqkps quthvx fyegue qxrvdp ejinnr yfzgzf\n"
     ]
    }
   ],
   "source": [
    "import math\n",
    "\n",
    "s = 'roqfqeylxuyxjfyqterizzkhgvngapvudnztsxeprfp'\n",
    "\n",
    "s = ''.join(s.split())\n",
    "\n",
    "rows = math.floor(math.sqrt(len(s)))\n",
    "cols = math.ceil(math.sqrt(len(s)))\n",
    "\n",
    "if (rows * cols) < len(s):\n",
    "    i = max(rows, cols)\n",
    "    rows = i\n",
    "    cols = i\n",
    "\n",
    "answer = ['' for i in range(cols)]\n",
    "words = []\n",
    "\n",
    "for row in range(1,rows+1):\n",
    "    word = s[cols*(row-1):cols*(row)]\n",
    "    words.append(word)\n",
    "\n",
    "\n",
    "diflast = len(words[0]) - len(words[-1])\n",
    "\n",
    "if diflast != 0:\n",
    "    for i in range(diflast+1):\n",
    "        words[-1] = words[-1] + ' '\n",
    "\n",
    "\n",
    "for row in range(rows):\n",
    "    for col in range(cols):\n",
    "        if words[row][col] == ' ':\n",
    "            answer[col] = answer[col] + ''   \n",
    "        else:\n",
    "            answer[col] = answer[col] + words[row][col]\n",
    "\n",
    "print(' '.join(answer))"
   ]
  },
  {
   "cell_type": "code",
   "execution_count": 12,
   "metadata": {},
   "outputs": [
    {
     "data": {
      "text/plain": [
       "True"
      ]
     },
     "execution_count": 12,
     "metadata": {},
     "output_type": "execute_result"
    }
   ],
   "source": [
    "diflast"
   ]
  },
  {
   "cell_type": "code",
   "execution_count": 131,
   "metadata": {},
   "outputs": [
    {
     "data": {
      "text/plain": [
       "'s'"
      ]
     },
     "execution_count": 131,
     "metadata": {},
     "output_type": "execute_result"
    }
   ],
   "source": []
  },
  {
   "cell_type": "code",
   "execution_count": null,
   "metadata": {},
   "outputs": [],
   "source": []
  }
 ],
 "metadata": {
  "interpreter": {
   "hash": "916dbcbb3f70747c44a77c7bcd40155683ae19c65e1c03b4aa3499c5328201f1"
  },
  "kernelspec": {
   "display_name": "Python 3.8.10 64-bit",
   "language": "python",
   "name": "python3"
  },
  "language_info": {
   "codemirror_mode": {
    "name": "ipython",
    "version": 3
   },
   "file_extension": ".py",
   "mimetype": "text/x-python",
   "name": "python",
   "nbconvert_exporter": "python",
   "pygments_lexer": "ipython3",
   "version": "3.8.10"
  },
  "orig_nbformat": 4
 },
 "nbformat": 4,
 "nbformat_minor": 2
}
