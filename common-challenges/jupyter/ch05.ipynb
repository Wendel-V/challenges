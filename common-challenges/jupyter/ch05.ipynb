{
 "metadata": {
  "language_info": {
   "codemirror_mode": {
    "name": "ipython",
    "version": 3
   },
   "file_extension": ".py",
   "mimetype": "text/x-python",
   "name": "python",
   "nbconvert_exporter": "python",
   "pygments_lexer": "ipython3",
   "version": "3.8.6-final"
  },
  "orig_nbformat": 2,
  "kernelspec": {
   "name": "python3",
   "display_name": "Python 3.8.6 64-bit",
   "metadata": {
    "interpreter": {
     "hash": "4d7122b0d99b2cef9d5657ff69b5f6e9fec2de8231d753a7be2ec25a7a73ac15"
    }
   }
  }
 },
 "nbformat": 4,
 "nbformat_minor": 2,
 "cells": [
  {
   "cell_type": "code",
   "execution_count": 40,
   "metadata": {},
   "outputs": [
    {
     "output_type": "execute_result",
     "data": {
      "text/plain": [
       "[1, 1, 0, -1, -1]"
      ]
     },
     "metadata": {},
     "execution_count": 40
    }
   ],
   "source": [
    "x = [1, 1, 0,-1, -1]\n",
    "x\n"
   ]
  },
  {
   "cell_type": "code",
   "execution_count": 41,
   "metadata": {},
   "outputs": [],
   "source": [
    "def plusMinus(arr):\n",
    "    size = len(arr)\n",
    "    positive = 0\n",
    "    negative = 0\n",
    "    zero = 0\n",
    "\n",
    "    for element in arr:\n",
    "        if element > 0:\n",
    "            positive += 1\n",
    "        elif element < 0:\n",
    "            negative += 1\n",
    "        else:\n",
    "            zero += 1\n",
    "\n",
    "    print('{0:.6f}'.format(positive/size))\n",
    "    print('{0:.6f}'.format(negative/size))\n",
    "    print('{0:.6f}'.format(zero/size))\n"
   ]
  },
  {
   "cell_type": "code",
   "execution_count": 42,
   "metadata": {},
   "outputs": [
    {
     "output_type": "stream",
     "name": "stdout",
     "text": [
      "0.400000\n0.400000\n0.200000\n"
     ]
    }
   ],
   "source": [
    "plusMinus(x)"
   ]
  }
 ]
}