{
 "cells": [
  {
   "cell_type": "code",
   "execution_count": 96,
   "id": "7ffd99ee",
   "metadata": {},
   "outputs": [],
   "source": [
    "def utopianTree(n):\n",
    "    height = 0\n",
    "    for cycle in range(0,n+1):\n",
    "        if (cycle % 2 == 1):\n",
    "            height = height * 2\n",
    "        elif (cycle % 2 == 0):\n",
    "            height += 1\n",
    "    return height"
   ]
  }
 ],
 "metadata": {
  "kernelspec": {
   "display_name": "Python 3 (ipykernel)",
   "language": "python",
   "name": "python3"
  },
  "language_info": {
   "codemirror_mode": {
    "name": "ipython",
    "version": 3
   },
   "file_extension": ".py",
   "mimetype": "text/x-python",
   "name": "python",
   "nbconvert_exporter": "python",
   "pygments_lexer": "ipython3",
   "version": "3.8.10"
  }
 },
 "nbformat": 4,
 "nbformat_minor": 5
}
