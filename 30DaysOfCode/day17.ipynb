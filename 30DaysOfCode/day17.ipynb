{
 "metadata": {
  "language_info": {
   "codemirror_mode": {
    "name": "ipython",
    "version": 3
   },
   "file_extension": ".py",
   "mimetype": "text/x-python",
   "name": "python",
   "nbconvert_exporter": "python",
   "pygments_lexer": "ipython3",
   "version": 3
  },
  "orig_nbformat": 2
 },
 "nbformat": 4,
 "nbformat_minor": 2,
 "cells": [
  {
   "cell_type": "code",
   "execution_count": null,
   "metadata": {},
   "outputs": [],
   "source": [
    "class Calculator:\n",
    "    \n",
    "    def power(self, n, p):\n",
    "            if n < 0 or p < 0:\n",
    "                raise Exception('n and p should be non-negative')\n",
    "            else:\n",
    "                return n**p\n",
    "\n",
    "myCalculator=Calculator()"
   ]
  }
 ]
}