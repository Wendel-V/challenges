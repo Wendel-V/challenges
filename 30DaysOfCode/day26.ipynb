{
 "metadata": {
  "language_info": {
   "codemirror_mode": {
    "name": "ipython",
    "version": 3
   },
   "file_extension": ".py",
   "mimetype": "text/x-python",
   "name": "python",
   "nbconvert_exporter": "python",
   "pygments_lexer": "ipython3",
   "version": "3.8.5-final"
  },
  "orig_nbformat": 2,
  "kernelspec": {
   "name": "python3",
   "display_name": "Python 3",
   "language": "python"
  }
 },
 "nbformat": 4,
 "nbformat_minor": 2,
 "cells": [
  {
   "cell_type": "code",
   "execution_count": 1,
   "metadata": {},
   "outputs": [
    {
     "output_type": "stream",
     "name": "stdout",
     "text": [
      "45\n"
     ]
    }
   ],
   "source": [
    "def lateCalc(date_returned, date_due):\n",
    "\n",
    "    d1,m1,y1 = date_returned.split()\n",
    "    d2,m2,y2 = date_due.split()\n",
    "    d1,m1,y1,d2,m2,y2 = int(d1), int(m1), int(y1), int(d2), int(m2), int(y2)\n",
    "\n",
    "    if y1 < y2: # Foi entregue um ano antes do esperado\n",
    "        return 0\n",
    "    elif y1 > y2: # Foi entregue no ano seguinte ao esperado\n",
    "        return 10000\n",
    "    else: # Foi entregue no ano correto\n",
    "        if m1 < m2: # foi entregue meses antes do esperado\n",
    "            return 0\n",
    "        elif m1 > m2: # Foi entregue meses depois do esperado \n",
    "            return 500 * (m1 - m2)\n",
    "        else: # Foi entregue no mês correto\n",
    "            if d1 < d2: # Foi entregue dias antes do esperado\n",
    "                return 0\n",
    "            elif d1 > d2: # Foi entregue dias depois do esperado\n",
    "                return 15 * (d1 - d2)\n",
    "            else: # Foi entregue no dia esperado\n",
    "                return 0\n",
    "\n",
    "date_returned = input()\n",
    "date_due = input()\n",
    "print(lateCalc(date_returned, date_due))"
   ]
  },
  {
   "cell_type": "code",
   "execution_count": null,
   "metadata": {},
   "outputs": [],
   "source": []
  }
 ]
}