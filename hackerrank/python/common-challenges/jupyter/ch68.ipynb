{
 "cells": [
  {
   "cell_type": "code",
   "execution_count": 228,
   "metadata": {},
   "outputs": [
    {
     "name": "stdout",
     "output_type": "stream",
     "text": [
      "Kevin 19\n"
     ]
    }
   ],
   "source": [
    "# the Minion Game\n",
    "\n",
    "string = 'BAANANAS'\n",
    "vowels = 'AEIOU'   \n",
    "kevin = 0\n",
    "slen = len(string)\n",
    "tsubs = ((slen * (slen + 1)) / 2)   \n",
    "\n",
    "while string != '':\n",
    "        for i in range(0,len(string)+1):\n",
    "                if string[:i] != '':\n",
    "                        if string[:i][0] in vowels:\n",
    "                                kevin+= 1\n",
    "        string = string[1:]\n",
    "\n",
    "stuart = slen - kevin\n",
    "           \n",
    "if stuart > kevin:\n",
    "        print('Stuart', stuart)\n",
    "elif stuart < kevin:\n",
    "        print('Kevin', kevin)\n",
    "else:\n",
    "        print('Draw')\n",
    "\n",
    "\n",
    "\n",
    "string = 'BANANA'\n",
    "slen = len(string)\n",
    "tsubs = (slen * (slen + 1) )/2\n",
    "vowels = 'AEIOU'\n",
    "\n",
    "kevin = sum([slen - i for i in range(len(string)) if string[i] in vowels])\n",
    "\n",
    "stuart = tsubs - kevin\n",
    "\n",
    "if stuart > kevin: print('Stuart', int(stuart))\n",
    "elif stuart < kevin: print('Kevin', (kevin))\n",
    "else:print('Draw')\n"
   ]
  }
 ],
 "metadata": {
  "interpreter": {
   "hash": "916dbcbb3f70747c44a77c7bcd40155683ae19c65e1c03b4aa3499c5328201f1"
  },
  "kernelspec": {
   "display_name": "Python 3.8.10 64-bit",
   "language": "python",
   "name": "python3"
  },
  "language_info": {
   "codemirror_mode": {
    "name": "ipython",
    "version": 3
   },
   "file_extension": ".py",
   "mimetype": "text/x-python",
   "name": "python",
   "nbconvert_exporter": "python",
   "pygments_lexer": "ipython3",
   "version": "3.8.10"
  },
  "orig_nbformat": 4
 },
 "nbformat": 4,
 "nbformat_minor": 2
}
