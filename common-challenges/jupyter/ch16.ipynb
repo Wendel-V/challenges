{
 "metadata": {
  "language_info": {
   "codemirror_mode": {
    "name": "ipython",
    "version": 3
   },
   "file_extension": ".py",
   "mimetype": "text/x-python",
   "name": "python",
   "nbconvert_exporter": "python",
   "pygments_lexer": "ipython3",
   "version": "3.8.5-final"
  },
  "orig_nbformat": 2,
  "kernelspec": {
   "name": "python3",
   "display_name": "Python 3",
   "language": "python"
  }
 },
 "nbformat": 4,
 "nbformat_minor": 2,
 "cells": [
  {
   "cell_type": "code",
   "execution_count": 64,
   "metadata": {},
   "outputs": [
    {
     "output_type": "stream",
     "name": "stdout",
     "text": [
      "5 pares se encontram no critério\n"
     ]
    }
   ],
   "source": [
    "ar = [1,3,2,6,1,2]\n",
    "k = 3\n",
    "\n",
    "# aux = ar.copy()[::-1]\n",
    "\n",
    "second = ar.copy()\n",
    "pair_num = 0\n",
    "num = 1\n",
    "iterador = 0\n",
    "for i in ar:\n",
    "    # if i == ar[-1]:\n",
    "    #     break\n",
    "    # print('Item ' + str(i))\n",
    "    for j in second:\n",
    "        if(num >= len(second)):\n",
    "            break\n",
    "        # print('Operação ' + str(second[num]))\n",
    "        if ((i + second[num]) % k) == 0:\n",
    "            # print(str(i) + ' + ' + str(second[num]) + ' É divisível por ' + str(k))\n",
    "            pair_num += 1\n",
    "        num += 1\n",
    "    iterador += 1\n",
    "    num = iterador + 1\n",
    "        \n",
    "\n",
    "print(f'{pair_num} pares se encontram no critério')       \n"
   ]
  },
  {
   "cell_type": "code",
   "execution_count": 65,
   "metadata": {},
   "outputs": [],
   "source": [
    "def divisibleSumPairs(n, k, ar):\n",
    "    second = ar.copy()\n",
    "    num = 1\n",
    "    pair_num, iterator = 0, 0\n",
    "    for i in ar:\n",
    "        for j in second:\n",
    "            if(num >= len(second)):\n",
    "                break\n",
    "            if ((i + second[num]) % k) == 0:\n",
    "                pair_num += 1\n",
    "            num += 1\n",
    "        iterator += 1\n",
    "        num = iterator + 1\n",
    "    return pair_num\n",
    "            \n"
   ]
  },
  {
   "cell_type": "code",
   "execution_count": null,
   "metadata": {},
   "outputs": [],
   "source": []
  }
 ]
}