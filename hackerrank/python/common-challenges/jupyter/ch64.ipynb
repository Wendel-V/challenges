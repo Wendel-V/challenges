{
 "cells": [
  {
   "cell_type": "code",
   "execution_count": 56,
   "metadata": {},
   "outputs": [
    {
     "name": "stdout",
     "output_type": "stream",
     "text": [
      "1 ---------.|.---------\n",
      "2 ---------.|..|.---------\n",
      "3 ---------.|..|..|.---------\n"
     ]
    }
   ],
   "source": [
    "#Designer Door Mat\n",
    "\n",
    "\n",
    "r, col = map(int,input().split())\n",
    "\n",
    "trace = '-'\n",
    "middle = '.|.'\n",
    "\n",
    "j = 1\n",
    "for i in range(int((r - 1)/2), 0, -1):\n",
    "    #print(i, j)\n",
    "    print(int(col/r * i) * trace + j*middle + int(col/r * i) * trace )\n",
    "    j +=2\n",
    "print(int((col-7)/ 2)*trace + 'WELCOME' + int((col-7)/ 2)*trace)\n",
    "j -= 2\n",
    "\n",
    "for i in range(1,int((r - 1)/2) + 1):\n",
    "    #print(i, j)\n",
    "    print(int(col/r * i) * trace + j*middle + int(col/r * i) * trace )\n",
    "    j -=2\n"
   ]
  }
 ],
 "metadata": {
  "interpreter": {
   "hash": "916dbcbb3f70747c44a77c7bcd40155683ae19c65e1c03b4aa3499c5328201f1"
  },
  "kernelspec": {
   "display_name": "Python 3.8.10 64-bit",
   "language": "python",
   "name": "python3"
  },
  "language_info": {
   "codemirror_mode": {
    "name": "ipython",
    "version": 3
   },
   "file_extension": ".py",
   "mimetype": "text/x-python",
   "name": "python",
   "nbconvert_exporter": "python",
   "pygments_lexer": "ipython3",
   "version": "3.8.10"
  },
  "orig_nbformat": 4
 },
 "nbformat": 4,
 "nbformat_minor": 2
}
