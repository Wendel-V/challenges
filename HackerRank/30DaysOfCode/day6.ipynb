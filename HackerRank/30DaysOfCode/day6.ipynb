{
 "metadata": {
  "language_info": {
   "codemirror_mode": {
    "name": "ipython",
    "version": 3
   },
   "file_extension": ".py",
   "mimetype": "text/x-python",
   "name": "python",
   "nbconvert_exporter": "python",
   "pygments_lexer": "ipython3",
   "version": "3.8.6-final"
  },
  "orig_nbformat": 2,
  "kernelspec": {
   "name": "python3",
   "display_name": "Python 3.8.6 64-bit",
   "metadata": {
    "interpreter": {
     "hash": "4d7122b0d99b2cef9d5657ff69b5f6e9fec2de8231d753a7be2ec25a7a73ac15"
    }
   }
  }
 },
 "nbformat": 4,
 "nbformat_minor": 2,
 "cells": [
  {
   "cell_type": "code",
   "execution_count": 35,
   "metadata": {},
   "outputs": [
    {
     "output_type": "stream",
     "name": "stdout",
     "text": [
      "Hce akr\nRn aK\n"
     ]
    }
   ],
   "source": [
    "def separe(s):\n",
    "    slist = list(s)\n",
    "    even, odd = [],[]\n",
    "    aux = 0\n",
    "    for element in slist:\n",
    "        if (aux % 2) == 0:\n",
    "            even.append(element)\n",
    "        else:\n",
    "            odd.append(element)\n",
    "        aux += 1\n",
    "\n",
    "    return ''.join(even) + ' ' + ''.join(odd)\n",
    "\n",
    "\n",
    "n = int(input())\n",
    "s = []\n",
    "\n",
    "for item in range(n):\n",
    "    s.append(str(input()))    \n",
    "for item in s:\n",
    "    print(separe(item)) "
   ]
  }
 ]
}