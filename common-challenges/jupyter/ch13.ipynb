{
 "metadata": {
  "language_info": {
   "codemirror_mode": {
    "name": "ipython",
    "version": 3
   },
   "file_extension": ".py",
   "mimetype": "text/x-python",
   "name": "python",
   "nbconvert_exporter": "python",
   "pygments_lexer": "ipython3",
   "version": "3.8.6-final"
  },
  "orig_nbformat": 2,
  "kernelspec": {
   "name": "python3",
   "display_name": "Python 3.8.6 64-bit",
   "metadata": {
    "interpreter": {
     "hash": "4d7122b0d99b2cef9d5657ff69b5f6e9fec2de8231d753a7be2ec25a7a73ac15"
    }
   }
  }
 },
 "nbformat": 4,
 "nbformat_minor": 2,
 "cells": [
  {
   "cell_type": "code",
   "execution_count": 205,
   "metadata": {},
   "outputs": [
    {
     "output_type": "stream",
     "name": "stdout",
     "text": [
      "9\n"
     ]
    }
   ],
   "source": [
    "from math import gcd\n",
    "\n",
    "def findgcd(x, y):\n",
    "   while(y):\n",
    "      x, y = y, x % y\n",
    "   return x\n",
    "\n",
    "def factors(initial, finish, factor):\n",
    "    result = []\n",
    "    if initial == 1:\n",
    "        result.append(initial)\n",
    "        initial +=1\n",
    "    while initial <= finish:\n",
    "        if initial % factor == 0:\n",
    "            result.append(initial)\n",
    "        initial += 1\n",
    "    return result\n",
    "\n",
    "def lcmOfArray(a):\n",
    "    if len(a) < 2:\n",
    "        return a[0]\n",
    "    lcm = a[0]\n",
    "    for i in a[1:]:\n",
    "        lcm = lcm*i//findgcd(lcm, i)\n",
    "    return lcm     \n",
    "\n",
    "def gcdOfArray(b):\n",
    "    if len(b) < 2:\n",
    "        return b[0]\n",
    "    num1=b[0]\n",
    "    num2=b[1]\n",
    "    result = findgcd(num1,num2)\n",
    "    for i in range(2,len(b)):\n",
    "        result = findgcd(result,b[i])\n",
    "    return result\n",
    "\n",
    "def multiples(a, b):\n",
    "    lcm_ = lcmOfArray(a)\n",
    "    gcd_ = gcdOfArray(b)\n",
    "    return list(factors(lcm_, gcd_, lcm_))\n",
    "\n",
    "def getTotalX(a, b):\n",
    "    multiples_list = multiples(a, b)\n",
    "    gcd_ = gcdOfArray(b)\n",
    "    count = 0\n",
    "    if not multiples_list:\n",
    "        return 0\n",
    "    for item in multiples_list:\n",
    "        if gcd_ % item == 0:\n",
    "            count += 1\n",
    "    return count\n"
   ]
  }
 ]
}