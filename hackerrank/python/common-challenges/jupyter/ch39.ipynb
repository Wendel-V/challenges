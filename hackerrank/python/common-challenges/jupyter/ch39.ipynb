{
 "cells": [
  {
   "cell_type": "markdown",
   "metadata": {},
   "source": [
    "You wish to buy video games from the famous online video game store Mist.\n",
    "\n",
    "Usually, all games are sold at the same price,\n",
    "dollars. However, they are planning to have the seasonal Halloween Sale next month in which you can buy games at a cheaper price. Specifically, the first game will cost dollars, and every subsequent game will cost dollars less than the previous one. This continues until the cost becomes less than or equal to dollars, after which every game will cost dollars. How many games can you buy during the Halloween Sale?"
   ]
  },
  {
   "cell_type": "code",
   "execution_count": null,
   "metadata": {},
   "outputs": [],
   "source": [
    "def howManyGames(p, d, m, s):\n",
    "    count = 0\n",
    "\n",
    "    while s >= p:\n",
    "        count += 1\n",
    "        s -= p\n",
    "        p = max(p-d, m)\n",
    "    return count\n"
   ]
  }
 ],
 "metadata": {
  "interpreter": {
   "hash": "916dbcbb3f70747c44a77c7bcd40155683ae19c65e1c03b4aa3499c5328201f1"
  },
  "kernelspec": {
   "display_name": "Python 3.8.10 64-bit",
   "language": "python",
   "name": "python3"
  },
  "language_info": {
   "codemirror_mode": {
    "name": "ipython",
    "version": 3
   },
   "file_extension": ".py",
   "mimetype": "text/x-python",
   "name": "python",
   "nbconvert_exporter": "python",
   "pygments_lexer": "ipython3",
   "version": "3.8.10"
  },
  "orig_nbformat": 4
 },
 "nbformat": 4,
 "nbformat_minor": 2
}
