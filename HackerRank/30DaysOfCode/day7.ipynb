{
 "metadata": {
  "language_info": {
   "codemirror_mode": {
    "name": "ipython",
    "version": 3
   },
   "file_extension": ".py",
   "mimetype": "text/x-python",
   "name": "python",
   "nbconvert_exporter": "python",
   "pygments_lexer": "ipython3",
   "version": "3.6.12-final"
  },
  "orig_nbformat": 2,
  "kernelspec": {
   "name": "python3",
   "display_name": "Python 3",
   "language": "python"
  }
 },
 "nbformat": 4,
 "nbformat_minor": 2,
 "cells": [
  {
   "cell_type": "code",
   "execution_count": 26,
   "metadata": {},
   "outputs": [
    {
     "output_type": "stream",
     "name": "stdout",
     "text": [
      "4 3 2 1\n"
     ]
    }
   ],
   "source": [
    "N = 4\n",
    "A = [1, 2, 3, 4]\n",
    "\n",
    "reverse = []\n",
    "for i in A:\n",
    "    reverse.append(str(A[N-1]))\n",
    "    N -= 1\n",
    "\n",
    "print(' '.join(reverse))\n"
   ]
  }
 ]
}