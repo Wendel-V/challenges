{
 "metadata": {
  "language_info": {
   "codemirror_mode": {
    "name": "ipython",
    "version": 3
   },
   "file_extension": ".py",
   "mimetype": "text/x-python",
   "name": "python",
   "nbconvert_exporter": "python",
   "pygments_lexer": "ipython3",
   "version": "3.8.6-final"
  },
  "orig_nbformat": 2,
  "kernelspec": {
   "name": "python3",
   "display_name": "Python 3.8.6 64-bit",
   "metadata": {
    "interpreter": {
     "hash": "4d7122b0d99b2cef9d5657ff69b5f6e9fec2de8231d753a7be2ec25a7a73ac15"
    }
   }
  }
 },
 "nbformat": 4,
 "nbformat_minor": 2,
 "cells": [
  {
   "cell_type": "code",
   "execution_count": 62,
   "metadata": {},
   "outputs": [
    {
     "output_type": "execute_result",
     "data": {
      "text/plain": [
       "0"
      ]
     },
     "metadata": {},
     "execution_count": 62
    }
   ],
   "source": [
    "def pageCount(n, p):\n",
    "    i, f, count1, count2 = 1, n, 0, 0\n",
    "    if p % 2 == 0:\n",
    "        face = (p, p+1)\n",
    "    else: \n",
    "        face = (p-1, p)\n",
    "    while i < face[1]:\n",
    "        i += 2\n",
    "        count1 += 1\n",
    "    while f > face[1]:\n",
    "        f -= 2\n",
    "        count2 += 1\n",
    "    return min((count1, count2))\n",
    "\n",
    "\n",
    "pageCount(5,4)\n"
   ]
  }
 ]
}