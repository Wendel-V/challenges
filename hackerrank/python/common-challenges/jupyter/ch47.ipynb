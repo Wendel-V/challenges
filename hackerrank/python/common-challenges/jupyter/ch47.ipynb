{
 "cells": [
  {
   "cell_type": "code",
   "execution_count": 20,
   "metadata": {},
   "outputs": [],
   "source": [
    "n = 7\n",
    "arr = [3,4,7,5,6,2,1]"
   ]
  },
  {
   "cell_type": "code",
   "execution_count": 21,
   "metadata": {},
   "outputs": [],
   "source": []
  },
  {
   "cell_type": "code",
   "execution_count": 24,
   "metadata": {},
   "outputs": [
    {
     "name": "stdout",
     "output_type": "stream",
     "text": [
      "3 4 7 5 6 2 1\n",
      "3 4 7 5 6 2 1\n",
      "3 4 5 7 6 2 1\n",
      "3 4 5 6 7 2 1\n",
      "2 3 4 5 6 7 1\n",
      "1 2 3 4 5 6 7\n"
     ]
    }
   ],
   "source": [
    "n = 7\n",
    "arr = [3,4,7,5,6,2,1]\n",
    "\n",
    "indexes = range(1,len(arr))\n",
    "\n",
    "for i in indexes:\n",
    "    valor = arr[i]\n",
    "\n",
    "    while arr[i-1]  > valor and i > 0:\n",
    "        arr[i], arr[i-1] = arr[i-1], arr[i]\n",
    "        i -=1\n",
    "    print(*arr)"
   ]
  },
  {
   "cell_type": "code",
   "execution_count": 9,
   "metadata": {},
   "outputs": [
    {
     "data": {
      "text/plain": [
       "[1, 2, 3, 4, 5, 6, 7]"
      ]
     },
     "execution_count": 9,
     "metadata": {},
     "output_type": "execute_result"
    }
   ],
   "source": [
    "arr"
   ]
  },
  {
   "cell_type": "code",
   "execution_count": null,
   "metadata": {},
   "outputs": [],
   "source": []
  }
 ],
 "metadata": {
  "interpreter": {
   "hash": "916dbcbb3f70747c44a77c7bcd40155683ae19c65e1c03b4aa3499c5328201f1"
  },
  "kernelspec": {
   "display_name": "Python 3.8.10 64-bit",
   "language": "python",
   "name": "python3"
  },
  "language_info": {
   "codemirror_mode": {
    "name": "ipython",
    "version": 3
   },
   "file_extension": ".py",
   "mimetype": "text/x-python",
   "name": "python",
   "nbconvert_exporter": "python",
   "pygments_lexer": "ipython3",
   "version": "3.8.10"
  },
  "orig_nbformat": 4
 },
 "nbformat": 4,
 "nbformat_minor": 2
}
