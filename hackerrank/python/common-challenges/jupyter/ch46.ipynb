{
 "cells": [
  {
   "cell_type": "code",
   "execution_count": 110,
   "metadata": {},
   "outputs": [],
   "source": []
  },
  {
   "cell_type": "code",
   "execution_count": 127,
   "metadata": {},
   "outputs": [
    {
     "name": "stdout",
     "output_type": "stream",
     "text": [
      "10 1\n",
      "2 3 4 5 6 7 8 9 10 10\n",
      "9 10\n",
      "2 3 4 5 6 7 8 9 9 10\n",
      "8 9\n",
      "2 3 4 5 6 7 8 8 9 10\n",
      "7 8\n",
      "2 3 4 5 6 7 7 8 9 10\n",
      "6 7\n",
      "2 3 4 5 6 6 7 8 9 10\n",
      "5 6\n",
      "2 3 4 5 5 6 7 8 9 10\n",
      "4 5\n",
      "2 3 4 4 5 6 7 8 9 10\n",
      "3 4\n",
      "2 3 3 4 5 6 7 8 9 10\n",
      "2 3\n",
      "3\n",
      "3 3 3 4 5 6 7 8 9 10\n"
     ]
    }
   ],
   "source": [
    "arr = [2,3,4,5,6,7,8,9,10,1]\n",
    "el = arr[-1]\n",
    "#arr[-1] = arr[-2]\n",
    "i = -2\n",
    "\n",
    "while arr[i] > el:\n",
    "    print(arr[i], arr[i+1])\n",
    "    arr[i+1] = arr[i]\n",
    "    print(*arr)\n",
    "    i-=1\n",
    "    if arr[i] == arr[0]: break\n",
    "\n",
    "print(arr[i], arr[i+1])\n",
    "arr[i] = arr[i+1] \n",
    "print(arr[i])\n",
    "print(*arr)"
   ]
  },
  {
   "cell_type": "code",
   "execution_count": 133,
   "metadata": {},
   "outputs": [
    {
     "name": "stdout",
     "output_type": "stream",
     "text": [
      "2 3 4 5 6 7 8 9 10 10\n",
      "2 3 4 5 6 7 8 9 9 10\n",
      "2 3 4 5 6 7 8 8 9 10\n",
      "2 3 4 5 6 7 7 8 9 10\n",
      "2 3 4 5 6 6 7 8 9 10\n",
      "2 3 4 5 5 6 7 8 9 10\n",
      "2 3 4 4 5 6 7 8 9 10\n",
      "2 3 3 4 5 6 7 8 9 10\n",
      "2 2 3 4 5 6 7 8 9 10\n",
      "1 2 3 4 5 6 7 8 9 10\n"
     ]
    }
   ],
   "source": [
    "def insertionSort1(n, arr):\n",
    "    el = arr[-1]\n",
    "    #arr[-1] = arr[-2]\n",
    "    i = -2\n",
    "\n",
    "    while arr[i] > el:\n",
    "        #print(arr[i], arr[i+1], i)\n",
    "        arr[i+1] = arr[i]\n",
    "        print(*arr)\n",
    "        \n",
    "        i-=1\n",
    "        if i < ((-1) * n): break\n",
    "        \n",
    "    arr[i+1] = el  \n",
    "    print(*arr)\n",
    "insertionSort1(10, [2,3,4,5,6,7,8,9,10,1])"
   ]
  },
  {
   "cell_type": "code",
   "execution_count": null,
   "metadata": {},
   "outputs": [],
   "source": []
  }
 ],
 "metadata": {
  "interpreter": {
   "hash": "916dbcbb3f70747c44a77c7bcd40155683ae19c65e1c03b4aa3499c5328201f1"
  },
  "kernelspec": {
   "display_name": "Python 3.8.10 64-bit",
   "language": "python",
   "name": "python3"
  },
  "language_info": {
   "codemirror_mode": {
    "name": "ipython",
    "version": 3
   },
   "file_extension": ".py",
   "mimetype": "text/x-python",
   "name": "python",
   "nbconvert_exporter": "python",
   "pygments_lexer": "ipython3",
   "version": "3.8.10"
  },
  "orig_nbformat": 4
 },
 "nbformat": 4,
 "nbformat_minor": 2
}
