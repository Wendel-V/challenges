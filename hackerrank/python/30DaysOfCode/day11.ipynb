{
 "metadata": {
  "language_info": {
   "codemirror_mode": {
    "name": "ipython",
    "version": 3
   },
   "file_extension": ".py",
   "mimetype": "text/x-python",
   "name": "python",
   "nbconvert_exporter": "python",
   "pygments_lexer": "ipython3",
   "version": "3.8.5-final"
  },
  "orig_nbformat": 2,
  "kernelspec": {
   "name": "python3",
   "display_name": "Python 3",
   "language": "python"
  }
 },
 "nbformat": 4,
 "nbformat_minor": 2,
 "cells": [
  {
   "cell_type": "code",
   "execution_count": 81,
   "metadata": {},
   "outputs": [],
   "source": [
    "array = [[1, 1, 1, 0, 0, 0],\n",
    "         [0, 1, 0, 0, 0, 0],\n",
    "         [1, 1, 1, 0, 0, 0],\n",
    "         [0, 0, 2, 4, 4, 0],\n",
    "         [0, 0, 0, 2, 0, 0],\n",
    "         [0, 0, 1, 2, 4, 0]]\n",
    "\n",
    "array1 = [[1, 1, 1, 0, 0, 0],\n",
    "         [0, 1, 0, 0, 0, 0],\n",
    "         [1, 1, 1, 0, 0, 0],\n",
    "         [0, 0, 0, 0, 0, 0],\n",
    "         [0, 0, 0, 0, 0, 0],\n",
    "         [0, 0, 0, 0, 0, 0]]\n",
    "\n",
    "array2 = [[-1, -1, 0, -9, -2, -2],\n",
    "         [-2, -1, -6, -8, -2, -5],\n",
    "         [-1, -1, -1, -2, -3, -4],\n",
    "         [-1, -9, -2, -4, -4, -5],\n",
    "         [-7, -3, -3, -2, -9, -9],\n",
    "         [-1, -3, -1, -2, -4, -5]]"
   ]
  },
  {
   "cell_type": "code",
   "execution_count": 91,
   "metadata": {},
   "outputs": [
    {
     "output_type": "execute_result",
     "data": {
      "text/plain": [
       "-6"
      ]
     },
     "metadata": {},
     "execution_count": 91
    }
   ],
   "source": [
    "def hourglassSum(hourglass):\n",
    "    total = 0\n",
    "\n",
    "    for row in hourglass:\n",
    "            total = total + sum(row)\n",
    "    return total\n",
    "\n",
    "def createHourglass(i, j, array):\n",
    "    row1 = array[i][j:j + 3]\n",
    "    row2 = array[i + 1][j:j + 3]\n",
    "    row3 = array[i + 2][j:j + 3]\n",
    "    hourglass = [row1, row2, row3]\n",
    "    hourglass[1][0] = 0\n",
    "    hourglass[1][2] = 0\n",
    "    return hourglass\n",
    "\n",
    "\n",
    "def maxHourglass(array):\n",
    "    i = 0\n",
    "    j = 0\n",
    "\n",
    "    maxSum = hourglassSum(createHourglass(i,j,array))\n",
    "\n",
    "    for row in range(4):\n",
    "        for col in range(4):\n",
    "            hourglass = createHourglass(i, j, array)\n",
    "            hourglass_sum = hourglassSum(hourglass)\n",
    "            if hourglass_sum > maxSum:\n",
    "                maxSum = hourglass_sum\n",
    "            j += 1\n",
    "        j = 0\n",
    "        i += 1\n",
    "    \n",
    "    return maxSum\n",
    "\n",
    "maxHourglass(array2)      "
   ]
  },
  {
   "cell_type": "code",
   "execution_count": null,
   "metadata": {},
   "outputs": [],
   "source": []
  },
  {
   "cell_type": "code",
   "execution_count": 90,
   "metadata": {},
   "outputs": [
    {
     "output_type": "execute_result",
     "data": {
      "text/plain": [
       "-22"
      ]
     },
     "metadata": {},
     "execution_count": 90
    }
   ],
   "source": [
    "hourglassSum(createHourglass(1,0,array2))\n",
    "\n",
    "\n",
    "\n",
    "\n",
    "\n"
   ]
  },
  {
   "cell_type": "code",
   "execution_count": null,
   "metadata": {},
   "outputs": [],
   "source": []
  }
 ]
}