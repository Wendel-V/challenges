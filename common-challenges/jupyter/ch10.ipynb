{
 "metadata": {
  "language_info": {
   "codemirror_mode": {
    "name": "ipython",
    "version": 3
   },
   "file_extension": ".py",
   "mimetype": "text/x-python",
   "name": "python",
   "nbconvert_exporter": "python",
   "pygments_lexer": "ipython3",
   "version": "3.8.6-final"
  },
  "orig_nbformat": 2,
  "kernelspec": {
   "name": "python3",
   "display_name": "Python 3.8.6 64-bit",
   "metadata": {
    "interpreter": {
     "hash": "4d7122b0d99b2cef9d5657ff69b5f6e9fec2de8231d753a7be2ec25a7a73ac15"
    }
   }
  }
 },
 "nbformat": 4,
 "nbformat_minor": 2,
 "cells": [
  {
   "cell_type": "code",
   "execution_count": 62,
   "metadata": {
    "tags": []
   },
   "outputs": [
    {
     "output_type": "execute_result",
     "data": {
      "text/plain": [
       "[75, 67, 40, 33]"
      ]
     },
     "metadata": {},
     "execution_count": 62
    }
   ],
   "source": [
    "def gradingStudents(grades):\n",
    "\n",
    "    rounded_grades = []\n",
    "\n",
    "    for grade in grades:\n",
    "        rounding = grade\n",
    "\n",
    "        if grade < 38:\n",
    "            rounded_grades.append(grade)\n",
    "        else:\n",
    "            next_mult = 0\n",
    "            while (rounding % 5) != 0:\n",
    "                next_mult += 1\n",
    "                rounding += 1\n",
    "            \n",
    "            if next_mult < 3:\n",
    "                rounded_grades.append(grade + next_mult)\n",
    "\n",
    "            else:\n",
    "                rounded_grades.append(grade)\n",
    "\n",
    "    return rounded_grades   \n",
    "\n",
    "gradingStudents(x)\n",
    "\n"
   ]
  }
 ]
}