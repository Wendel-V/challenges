{
 "metadata": {
  "language_info": {
   "codemirror_mode": {
    "name": "ipython",
    "version": 3
   },
   "file_extension": ".py",
   "mimetype": "text/x-python",
   "name": "python",
   "nbconvert_exporter": "python",
   "pygments_lexer": "ipython3",
   "version": "3.8.6-final"
  },
  "orig_nbformat": 2,
  "kernelspec": {
   "name": "python3",
   "display_name": "Python 3.8.6 64-bit",
   "metadata": {
    "interpreter": {
     "hash": "4d7122b0d99b2cef9d5657ff69b5f6e9fec2de8231d753a7be2ec25a7a73ac15"
    }
   }
  }
 },
 "nbformat": 4,
 "nbformat_minor": 2,
 "cells": [
  {
   "cell_type": "code",
   "execution_count": 14,
   "metadata": {},
   "outputs": [],
   "source": [
    "\n",
    "a = [13, 28, 57]\n",
    "b = [81, 29, 12]\n",
    "\n",
    "\n",
    "\n",
    "for i in list(range(3)):\n",
    "    if a[i] > b[i]:\n",
    "        ap += 1\n",
    "    elif a[i] < b[i]:\n",
    "        bp += 1\n",
    "\n",
    "re.append(ap)\n",
    "re.append(bp)\n",
    "\n",
    "\n",
    "\n",
    "\n",
    "def compareTriplets(a, b):\n",
    "    ap = 0\n",
    "    bp = 0\n",
    "    re = []\n",
    "\n",
    "    for i in list(range(3)):\n",
    "        if a[i] > b[i]:\n",
    "            ap += 1\n",
    "        elif a[i] < b[i]:\n",
    "            bp += 1\n",
    "\n",
    "    re.append(ap)\n",
    "    re.append(bp)\n",
    "\n",
    "    return re\n"
   ]
  },
  {
   "cell_type": "code",
   "execution_count": null,
   "metadata": {},
   "outputs": [],
   "source": []
  }
 ]
}