{
 "cells": [
  {
   "cell_type": "code",
   "execution_count": null,
   "metadata": {},
   "outputs": [],
   "source": [
    "# Enter your code here. Read input from STDIN. Print output to STDOUT\n",
    "\n",
    "S, k = input().split()\n",
    "k = int(k)\n",
    "\n",
    "from itertools import combinations_with_replacement\n",
    "replacement = [c for c in list(combinations_with_replacement(sorted(S),k))]\n",
    "\n",
    "for c in replacement:\n",
    "    print(''.join(c))"
   ]
  }
 ],
 "metadata": {
  "language_info": {
   "name": "python"
  },
  "orig_nbformat": 4
 },
 "nbformat": 4,
 "nbformat_minor": 2
}
